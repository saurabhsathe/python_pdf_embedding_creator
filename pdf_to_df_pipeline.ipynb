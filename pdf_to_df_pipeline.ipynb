{
 "cells": [
  {
   "cell_type": "code",
   "execution_count": 49,
   "id": "f10764ba-e11e-4c87-ad82-930cd6b7b9c5",
   "metadata": {},
   "outputs": [],
   "source": [
    "import os\n",
    "import requests\n",
    "import fitz \n",
    "from tqdm.auto import tqdm\n",
    "import random\n",
    "import pandas as pd\n",
    "from spacy.lang.en import English\n",
    "import torch\n",
    "from sentence_transformers import SentenceTransformer\n",
    "# Get PDF document path\n"
   ]
  },
  {
   "cell_type": "code",
   "execution_count": 15,
   "id": "03db79c1-5148-47d4-9e13-afc2ce47bf2f",
   "metadata": {},
   "outputs": [
    {
     "name": "stdout",
     "output_type": "stream",
     "text": [
      "File resources/spring-framework.pdf exists.\n"
     ]
    }
   ],
   "source": [
    "pdf_path = \"resources/spring-framework.pdf\"\n",
    "\n",
    "# Download PDF\n",
    "if not os.path.exists(pdf_path):\n",
    "    print(\"[INFO] File doesn't exist, downloading...\")\n",
    "    url = \"https://docs.spring.io/spring-framework/docs/6.0.0/reference/pdf/spring-framework.pdf\"\n",
    "    filename = pdf_path\n",
    "    response = requests.get(url)\n",
    "    if response.status_code == 200:\n",
    "        with open(filename, \"wb\") as file:\n",
    "            file.write(response.content) \n",
    "        print(f\"[INFO] The file has been download and saved as {filename}\")\n",
    "    else:\n",
    "        print(f\"[INFO] Failed to download the file. Status code: {reponse.status_code}\")\n",
    "else:\n",
    "    print(f\"File {pdf_path} exists.\")\n",
    "\n"
   ]
  },
  {
   "cell_type": "code",
   "execution_count": 16,
   "id": "9fa8aa53-4f8a-44c9-b497-142c15642b85",
   "metadata": {},
   "outputs": [
    {
     "data": {
      "application/vnd.jupyter.widget-view+json": {
       "model_id": "cd598505ccf44857920de154550e373e",
       "version_major": 2,
       "version_minor": 0
      },
      "text/plain": [
       "0it [00:00, ?it/s]"
      ]
     },
     "metadata": {},
     "output_type": "display_data"
    },
    {
     "data": {
      "text/plain": [
       "[{'page_number': 0,\n",
       "  'page_char_count': 44,\n",
       "  'page_word_count': 5,\n",
       "  'page_setence_count_raw': 1,\n",
       "  'page_token_count': 11.0,\n",
       "  'text': 'Spring Framework Documentation Version 6.0.0'},\n",
       " {'page_number': 1,\n",
       "  'page_char_count': 3152,\n",
       "  'page_word_count': 494,\n",
       "  'page_setence_count_raw': 31,\n",
       "  'page_token_count': 788.0,\n",
       "  'text': 'Chapter 1. Spring Framework Overview Spring makes it easy to create Java enterprise applications. It provides everything you need to embrace the Java language in an enterprise environment, with support for Groovy and Kotlin as alternative languages on the JVM, and with the flexibility to create many kinds of architectures depending on an application’s needs. As of Spring Framework 5.1, Spring requires JDK 8+ (Java SE 8+) and provides out-of-the-box support for JDK 11 LTS. Java SE 8 update 60 is suggested as the minimum patch release for Java 8, but it is generally recommended to use a recent patch release. Spring supports a wide range of application scenarios. In a large enterprise, applications often exist for a long time and have to run on a JDK and application server whose upgrade cycle is beyond developer control. Others may run as a single jar with the server embedded, possibly in a cloud environment. Yet others may be standalone applications (such as batch or integration workloads) that do not need a server. Spring is open source. It has a large and active community that provides continuous feedback based on a diverse range of real-world use cases. This has helped Spring to successfully evolve over a very long time. 1.1. What We Mean by \"Spring\" The term \"Spring\" means different things in different contexts. It can be used to refer to the Spring Framework project itself, which is where it all started. Over time, other Spring projects have been built on top of the Spring Framework. Most often, when people say \"Spring\", they mean the entire family of projects. This reference documentation focuses on the foundation: the Spring Framework itself. The Spring Framework is divided into modules. Applications can choose which modules they need. At the heart are the modules of the core container, including a configuration model and a dependency injection mechanism. Beyond that, the Spring Framework provides foundational support for different application architectures, including messaging, transactional data and persistence, and web. It also includes the Servlet-based Spring MVC web framework and, in parallel, the Spring WebFlux reactive web framework. A note about modules: Spring’s framework jars allow for deployment to JDK 9’s module path (\"Jigsaw\"). For use in Jigsaw-enabled applications, the Spring Framework 5 jars come with \"Automatic-Module-Name\" manifest entries which define stable language-level module names (\"spring.core\", \"spring.context\", etc.) independent from jar artifact names (the jars follow the same naming pattern with \"-\" instead of \".\", e.g. \"spring-core\" and \"spring-context\"). Of course, Spring’s framework jars keep working fine on the classpath on both JDK 8 and 9+. 1.2. History of Spring and the Spring Framework Spring came into being in 2003 as a response to the complexity of the early J2EE specifications. While some consider Java EE and its modern-day successor Jakarta EE to be in competition with Spring, they are in fact complementary. The Spring programming model does not embrace the Jakarta EE platform specification; rather, it integrates with carefully selected individual 1'}]"
      ]
     },
     "execution_count": 16,
     "metadata": {},
     "output_type": "execute_result"
    }
   ],
   "source": [
    "def text_formatter(text: str) -> str: \n",
    "    \"\"\"Performs minor formatting on text.\"\"\"\n",
    "    cleaned_text = text.replace(\"\\n\", \" \").strip()\n",
    "    return cleaned_text\n",
    "\n",
    "def open_and_read_pdf(pdf_path: str) -> list[dict]:\n",
    "    doc = fitz.open(pdf_path)\n",
    "    pages_and_texts = [] \n",
    "    for page_number, page in tqdm(enumerate(doc)):\n",
    "        text = page.get_text()\n",
    "        text = text_formatter(text=text)\n",
    "        pages_and_texts.append({\"page_number\": page_number,\n",
    "                                \"page_char_count\": len(text),\n",
    "                                \"page_word_count\": len(text.split(\" \")),\n",
    "                                \"page_setence_count_raw\": len(text.split(\". \")),\n",
    "                                \"page_token_count\": len(text) / 4, # 1 token = ~4 characters\n",
    "                                \"text\": text})\n",
    "    return pages_and_texts\n",
    "\n",
    "pages_and_texts = open_and_read_pdf(pdf_path=pdf_path)\n",
    "pages_and_texts[:2]"
   ]
  },
  {
   "cell_type": "code",
   "execution_count": 17,
   "id": "e8d8f880-e26f-4347-a44a-1cce2bb8e5c7",
   "metadata": {},
   "outputs": [
    {
     "data": {
      "text/plain": [
       "[{'page_number': 439,\n",
       "  'page_char_count': 407,\n",
       "  'page_word_count': 66,\n",
       "  'page_setence_count_raw': 2,\n",
       "  'page_token_count': 101.75,\n",
       "  'text': 'Java @Configuration(proxyBeanMethods = false) public class DataSourceConfiguration { \\xa0   @Bean \\xa0   public SimpleDataSource dataSource() { \\xa0       return new SimpleDataSource(); \\xa0   } } Since there isn’t any particular condition on this class, dataSourceConfiguration and dataSource are identified as candidates. The AOT engine will convert the configuration class above to code similar to the following: 439'},\n",
       " {'page_number': 278,\n",
       "  'page_char_count': 1658,\n",
       "  'page_word_count': 233,\n",
       "  'page_setence_count_raw': 8,\n",
       "  'page_token_count': 414.5,\n",
       "  'text': 'Java ExpressionParser parser = new SpelExpressionParser(); Expression exp = parser.parseExpression(\"new String(\\'hello world\\').toUpperCase()\"); ① String message = exp.getValue(String.class); ① Construct a new String from the literal and make it be upper case. Kotlin val parser = SpelExpressionParser() val exp = parser.parseExpression(\"new String(\\'hello world\\').toUpperCase()\")  ① val message = exp.getValue(String::class.java) ① Construct a new String from the literal and make it be upper case. Note the use of the generic method: public <T> T getValue(Class<T> desiredResultType). Using this method removes the need to cast the value of the expression to the desired result type. An EvaluationException is thrown if the value cannot be cast to the type T or converted by using the registered type converter. The more common usage of SpEL is to provide an expression string that is evaluated against a specific object instance (called the root object). The following example shows how to retrieve the name property from an instance of the Inventor class or create a boolean condition: Java // Create and set a calendar GregorianCalendar c = new GregorianCalendar(); c.set(1856, 7, 9); // The constructor arguments are name, birthday, and nationality. Inventor tesla = new Inventor(\"Nikola Tesla\", c.getTime(), \"Serbian\"); ExpressionParser parser = new SpelExpressionParser(); Expression exp = parser.parseExpression(\"name\"); // Parse name as an expression String name = (String) exp.getValue(tesla); // name == \"Nikola Tesla\" exp = parser.parseExpression(\"name == \\'Nikola Tesla\\'\"); boolean result = exp.getValue(tesla, Boolean.class); // result == true 278'},\n",
       " {'page_number': 556,\n",
       "  'page_char_count': 1939,\n",
       "  'page_word_count': 270,\n",
       "  'page_setence_count_raw': 17,\n",
       "  'page_token_count': 484.75,\n",
       "  'text': 'denote whether resource locations for properties files and inlined properties declared by superclasses should be inherited. The default value for both flags is true. This means that a test class inherits the locations and inlined properties declared by any superclasses. Specifically, the locations and inlined properties for a test class are appended to the locations and inlined properties declared by superclasses. Thus, subclasses have the option of extending the locations and inlined properties. Note that properties that appear later shadow (that is, override) properties of the same name that appear earlier. In addition, the aforementioned precedence rules apply for inherited test property sources as well. If the inheritLocations or inheritProperties attribute in @TestPropertySource is set to false, the locations or inlined properties, respectively, for the test class shadow and effectively replace the configuration defined by superclasses. \\uf05a As of Spring Framework 5.3, test configuration may also be inherited from enclosing classes. See @Nested test class configuration for details. In the next example, the ApplicationContext for BaseTest is loaded by using only the base.properties file as a test property source. In contrast, the ApplicationContext for ExtendedTest is loaded by using the base.properties and extended.properties files as test property source locations. The following example shows how to define properties in both a subclass and its superclass by using properties files: Java @TestPropertySource(\"base.properties\") @ContextConfiguration class BaseTest { \\xa0   // ... } @TestPropertySource(\"extended.properties\") @ContextConfiguration class ExtendedTest extends BaseTest { \\xa0   // ... } Kotlin @TestPropertySource(\"base.properties\") @ContextConfiguration open class BaseTest { \\xa0   // ... } @TestPropertySource(\"extended.properties\") @ContextConfiguration class ExtendedTest : BaseTest() { \\xa0   // ... } 556'}]"
      ]
     },
     "execution_count": 17,
     "metadata": {},
     "output_type": "execute_result"
    }
   ],
   "source": [
    "random.sample(pages_and_texts, k=3)"
   ]
  },
  {
   "cell_type": "code",
   "execution_count": 23,
   "id": "065ee878-12df-4eeb-a4f7-aee9ad212d05",
   "metadata": {},
   "outputs": [
    {
     "data": {
      "text/html": [
       "<div>\n",
       "<style scoped>\n",
       "    .dataframe tbody tr th:only-of-type {\n",
       "        vertical-align: middle;\n",
       "    }\n",
       "\n",
       "    .dataframe tbody tr th {\n",
       "        vertical-align: top;\n",
       "    }\n",
       "\n",
       "    .dataframe thead th {\n",
       "        text-align: right;\n",
       "    }\n",
       "</style>\n",
       "<table border=\"1\" class=\"dataframe\">\n",
       "  <thead>\n",
       "    <tr style=\"text-align: right;\">\n",
       "      <th></th>\n",
       "      <th>page_number</th>\n",
       "      <th>page_char_count</th>\n",
       "      <th>page_word_count</th>\n",
       "      <th>page_setence_count_raw</th>\n",
       "      <th>page_token_count</th>\n",
       "      <th>text</th>\n",
       "    </tr>\n",
       "  </thead>\n",
       "  <tbody>\n",
       "    <tr>\n",
       "      <th>0</th>\n",
       "      <td>0</td>\n",
       "      <td>44</td>\n",
       "      <td>5</td>\n",
       "      <td>1</td>\n",
       "      <td>11.00</td>\n",
       "      <td>Spring Framework Documentation Version 6.0.0</td>\n",
       "    </tr>\n",
       "    <tr>\n",
       "      <th>1</th>\n",
       "      <td>1</td>\n",
       "      <td>3152</td>\n",
       "      <td>494</td>\n",
       "      <td>31</td>\n",
       "      <td>788.00</td>\n",
       "      <td>Chapter 1. Spring Framework Overview Spring ma...</td>\n",
       "    </tr>\n",
       "    <tr>\n",
       "      <th>2</th>\n",
       "      <td>2</td>\n",
       "      <td>2621</td>\n",
       "      <td>418</td>\n",
       "      <td>25</td>\n",
       "      <td>655.25</td>\n",
       "      <td>specifications from the traditional EE umbrell...</td>\n",
       "    </tr>\n",
       "    <tr>\n",
       "      <th>3</th>\n",
       "      <td>3</td>\n",
       "      <td>2207</td>\n",
       "      <td>366</td>\n",
       "      <td>23</td>\n",
       "      <td>551.75</td>\n",
       "      <td>• Maintain strong backward compatibility. Spri...</td>\n",
       "    </tr>\n",
       "    <tr>\n",
       "      <th>4</th>\n",
       "      <td>4</td>\n",
       "      <td>2720</td>\n",
       "      <td>386</td>\n",
       "      <td>23</td>\n",
       "      <td>680.00</td>\n",
       "      <td>Chapter 2. Core Technologies This part of the ...</td>\n",
       "    </tr>\n",
       "  </tbody>\n",
       "</table>\n",
       "</div>"
      ],
      "text/plain": [
       "   page_number  page_char_count  page_word_count  page_setence_count_raw  \\\n",
       "0            0               44                5                       1   \n",
       "1            1             3152              494                      31   \n",
       "2            2             2621              418                      25   \n",
       "3            3             2207              366                      23   \n",
       "4            4             2720              386                      23   \n",
       "\n",
       "   page_token_count                                               text  \n",
       "0             11.00       Spring Framework Documentation Version 6.0.0  \n",
       "1            788.00  Chapter 1. Spring Framework Overview Spring ma...  \n",
       "2            655.25  specifications from the traditional EE umbrell...  \n",
       "3            551.75  • Maintain strong backward compatibility. Spri...  \n",
       "4            680.00  Chapter 2. Core Technologies This part of the ...  "
      ]
     },
     "execution_count": 23,
     "metadata": {},
     "output_type": "execute_result"
    }
   ],
   "source": [
    "df = pd.DataFrame(pages_and_texts)\n",
    "df.set_index(\"page_number\")\n",
    "df.head()"
   ]
  },
  {
   "cell_type": "code",
   "execution_count": 24,
   "id": "f1548b6e-1ec2-4267-99ed-08551565ce17",
   "metadata": {},
   "outputs": [
    {
     "data": {
      "text/html": [
       "<div>\n",
       "<style scoped>\n",
       "    .dataframe tbody tr th:only-of-type {\n",
       "        vertical-align: middle;\n",
       "    }\n",
       "\n",
       "    .dataframe tbody tr th {\n",
       "        vertical-align: top;\n",
       "    }\n",
       "\n",
       "    .dataframe thead th {\n",
       "        text-align: right;\n",
       "    }\n",
       "</style>\n",
       "<table border=\"1\" class=\"dataframe\">\n",
       "  <thead>\n",
       "    <tr style=\"text-align: right;\">\n",
       "      <th></th>\n",
       "      <th>page_number</th>\n",
       "      <th>page_char_count</th>\n",
       "      <th>page_word_count</th>\n",
       "      <th>page_setence_count_raw</th>\n",
       "      <th>page_token_count</th>\n",
       "    </tr>\n",
       "  </thead>\n",
       "  <tbody>\n",
       "    <tr>\n",
       "      <th>count</th>\n",
       "      <td>1429.00</td>\n",
       "      <td>1429.00</td>\n",
       "      <td>1429.00</td>\n",
       "      <td>1429.00</td>\n",
       "      <td>1429.00</td>\n",
       "    </tr>\n",
       "    <tr>\n",
       "      <th>mean</th>\n",
       "      <td>714.00</td>\n",
       "      <td>1725.97</td>\n",
       "      <td>268.72</td>\n",
       "      <td>10.10</td>\n",
       "      <td>431.49</td>\n",
       "    </tr>\n",
       "    <tr>\n",
       "      <th>std</th>\n",
       "      <td>412.66</td>\n",
       "      <td>595.52</td>\n",
       "      <td>92.28</td>\n",
       "      <td>6.43</td>\n",
       "      <td>148.88</td>\n",
       "    </tr>\n",
       "    <tr>\n",
       "      <th>min</th>\n",
       "      <td>0.00</td>\n",
       "      <td>44.00</td>\n",
       "      <td>5.00</td>\n",
       "      <td>1.00</td>\n",
       "      <td>11.00</td>\n",
       "    </tr>\n",
       "    <tr>\n",
       "      <th>25%</th>\n",
       "      <td>357.00</td>\n",
       "      <td>1304.00</td>\n",
       "      <td>202.00</td>\n",
       "      <td>5.00</td>\n",
       "      <td>326.00</td>\n",
       "    </tr>\n",
       "    <tr>\n",
       "      <th>50%</th>\n",
       "      <td>714.00</td>\n",
       "      <td>1677.00</td>\n",
       "      <td>259.00</td>\n",
       "      <td>9.00</td>\n",
       "      <td>419.25</td>\n",
       "    </tr>\n",
       "    <tr>\n",
       "      <th>75%</th>\n",
       "      <td>1071.00</td>\n",
       "      <td>2090.00</td>\n",
       "      <td>325.00</td>\n",
       "      <td>14.00</td>\n",
       "      <td>522.50</td>\n",
       "    </tr>\n",
       "    <tr>\n",
       "      <th>max</th>\n",
       "      <td>1428.00</td>\n",
       "      <td>3803.00</td>\n",
       "      <td>645.00</td>\n",
       "      <td>38.00</td>\n",
       "      <td>950.75</td>\n",
       "    </tr>\n",
       "  </tbody>\n",
       "</table>\n",
       "</div>"
      ],
      "text/plain": [
       "       page_number  page_char_count  page_word_count  page_setence_count_raw  \\\n",
       "count      1429.00          1429.00          1429.00                 1429.00   \n",
       "mean        714.00          1725.97           268.72                   10.10   \n",
       "std         412.66           595.52            92.28                    6.43   \n",
       "min           0.00            44.00             5.00                    1.00   \n",
       "25%         357.00          1304.00           202.00                    5.00   \n",
       "50%         714.00          1677.00           259.00                    9.00   \n",
       "75%        1071.00          2090.00           325.00                   14.00   \n",
       "max        1428.00          3803.00           645.00                   38.00   \n",
       "\n",
       "       page_token_count  \n",
       "count           1429.00  \n",
       "mean             431.49  \n",
       "std              148.88  \n",
       "min               11.00  \n",
       "25%              326.00  \n",
       "50%              419.25  \n",
       "75%              522.50  \n",
       "max              950.75  "
      ]
     },
     "execution_count": 24,
     "metadata": {},
     "output_type": "execute_result"
    }
   ],
   "source": [
    "df.describe().round(2)"
   ]
  },
  {
   "cell_type": "code",
   "execution_count": 29,
   "id": "6e75ff6a-fb0d-40a4-9e24-6e113334b79b",
   "metadata": {},
   "outputs": [
    {
     "data": {
      "text/plain": [
       "<spacy.pipeline.sentencizer.Sentencizer at 0x1c4909ff940>"
      ]
     },
     "execution_count": 29,
     "metadata": {},
     "output_type": "execute_result"
    }
   ],
   "source": [
    "#Spacy pipeline creator\n",
    "\n",
    "nlp = English()\n",
    "nlp.add_pipe(\"sentencizer\")\n"
   ]
  },
  {
   "cell_type": "code",
   "execution_count": null,
   "id": "def3066b-718f-4057-b77c-8f1988b5806a",
   "metadata": {},
   "outputs": [],
   "source": [
    "for item in tqdm(pages_and_texts):\n",
    "    item[\"sentences\"] = list(nlp(item[\"text\"]).sents)\n",
    "    item[\"sentences\"] = [str(sentence) for sentence in item[\"sentences\"]]\n",
    "    item[\"page_sentence_count_spacy\"] = len(item[\"sentences\"])\n",
    "\n",
    "random.sample(pages_and_texts, k=1)"
   ]
  },
  {
   "cell_type": "code",
   "execution_count": 31,
   "id": "f261800a-f223-4e87-931b-e6e189dcf99b",
   "metadata": {},
   "outputs": [
    {
     "data": {
      "application/vnd.jupyter.widget-view+json": {
       "model_id": "8c58e5257f4047a8b4978b9f2cdd3a63",
       "version_major": 2,
       "version_minor": 0
      },
      "text/plain": [
       "  0%|          | 0/1429 [00:00<?, ?it/s]"
      ]
     },
     "metadata": {},
     "output_type": "display_data"
    }
   ],
   "source": [
    "# Define split size to turn groups of sentences into chunks\n",
    "num_sentence_chunk_size = 10\n",
    "\n",
    "\n",
    "def split_list(input_list: list[str],\n",
    "               slice_size: int=num_sentence_chunk_size) -> list[list[str]]:\n",
    "    return [input_list[i:i+slice_size] for i in range(0, len(input_list), slice_size)]\n",
    "\n",
    "# Loop through pages and texts and split sentences into chunks\n",
    "for item in tqdm(pages_and_texts):\n",
    "    item[\"sentence_chunks\"] = split_list(input_list=item[\"sentences\"],\n",
    "                                         slice_size=num_sentence_chunk_size)\n",
    "    item[\"num_chunks\"] = len(item[\"sentence_chunks\"])"
   ]
  },
  {
   "cell_type": "code",
   "execution_count": 32,
   "id": "ba667ece-c734-40f0-a0e4-821006c9cd89",
   "metadata": {},
   "outputs": [
    {
     "data": {
      "text/plain": [
       "[{'page_number': 1328,\n",
       "  'page_char_count': 1510,\n",
       "  'page_word_count': 317,\n",
       "  'page_setence_count_raw': 3,\n",
       "  'page_token_count': 377.5,\n",
       "  'text': 'public interface IJmxTestBean { \\xa0   public int add(int x, int y); \\xa0   public long myOperation(); \\xa0   public int getAge(); \\xa0   public void setAge(int age); \\xa0   public void setName(String name); \\xa0   public String getName(); } This interface defines the methods and properties that are exposed as operations and attributes on the JMX MBean. The following code shows how to configure Spring JMX to use this interface as the definition for the management interface: <beans> \\xa0   <bean id=\"exporter\" class=\"org.springframework.jmx.export.MBeanExporter\"> \\xa0       <property name=\"beans\"> \\xa0           <map> \\xa0               <entry key=\"bean:name=testBean5\" value-ref=\"testBean\"/> \\xa0           </map> \\xa0       </property> \\xa0       <property name=\"assembler\"> \\xa0           <bean class=\"org.springframework.jmx.export.assembler.InterfaceBasedMBeanInfoAssembler\"> \\xa0               <property name=\"managedInterfaces\"> \\xa0                   <value>org.springframework.jmx.IJmxTestBean</value> \\xa0               </property> \\xa0           </bean> \\xa0       </property> \\xa0   </bean> \\xa0   <bean id=\"testBean\" class=\"org.springframework.jmx.JmxTestBean\"> \\xa0       <property name=\"name\" value=\"TEST\"/> \\xa0       <property name=\"age\" value=\"100\"/> \\xa0   </bean> </beans> In the preceding example, the InterfaceBasedMBeanInfoAssembler is configured to use the IJmxTestBean interface when constructing the management interface for any bean. It is important to understand that beans processed by the InterfaceBasedMBeanInfoAssembler are not required to 1328',\n",
       "  'sentences': ['public interface IJmxTestBean { \\xa0   public int add(int x, int y); \\xa0   public long myOperation(); \\xa0   public int getAge(); \\xa0   public void setAge(int age); \\xa0   public void setName(String name); \\xa0   public String getName(); } This interface defines the methods and properties that are exposed as operations and attributes on the JMX MBean.',\n",
       "   'The following code shows how to configure Spring JMX to use this interface as the definition for the management interface: <beans> \\xa0   <bean id=\"exporter\" class=\"org.springframework.jmx.export.',\n",
       "   'MBeanExporter\"> \\xa0       <property name=\"beans\"> \\xa0           <map> \\xa0               <entry key=\"bean:name=testBean5\" value-ref=\"testBean\"/> \\xa0           </map> \\xa0       </property> \\xa0       <property name=\"assembler\"> \\xa0           <bean class=\"org.springframework.jmx.export.assembler.',\n",
       "   'InterfaceBasedMBeanInfoAssembler\"> \\xa0               <property name=\"managedInterfaces\"> \\xa0                   <value>org.springframework.jmx.',\n",
       "   'IJmxTestBean</value> \\xa0               </property> \\xa0           </bean> \\xa0       </property> \\xa0   </bean> \\xa0   <bean id=\"testBean\" class=\"org.springframework.jmx.',\n",
       "   'JmxTestBean\"> \\xa0       <property name=\"name\" value=\"TEST\"/> \\xa0       <property name=\"age\" value=\"100\"/> \\xa0   </bean> </beans> In the preceding example, the InterfaceBasedMBeanInfoAssembler is configured to use the IJmxTestBean interface when constructing the management interface for any bean.',\n",
       "   'It is important to understand that beans processed by the InterfaceBasedMBeanInfoAssembler are not required to 1328'],\n",
       "  'page_sentence_count_spacy': 7,\n",
       "  'sentence_chunks': [['public interface IJmxTestBean { \\xa0   public int add(int x, int y); \\xa0   public long myOperation(); \\xa0   public int getAge(); \\xa0   public void setAge(int age); \\xa0   public void setName(String name); \\xa0   public String getName(); } This interface defines the methods and properties that are exposed as operations and attributes on the JMX MBean.',\n",
       "    'The following code shows how to configure Spring JMX to use this interface as the definition for the management interface: <beans> \\xa0   <bean id=\"exporter\" class=\"org.springframework.jmx.export.',\n",
       "    'MBeanExporter\"> \\xa0       <property name=\"beans\"> \\xa0           <map> \\xa0               <entry key=\"bean:name=testBean5\" value-ref=\"testBean\"/> \\xa0           </map> \\xa0       </property> \\xa0       <property name=\"assembler\"> \\xa0           <bean class=\"org.springframework.jmx.export.assembler.',\n",
       "    'InterfaceBasedMBeanInfoAssembler\"> \\xa0               <property name=\"managedInterfaces\"> \\xa0                   <value>org.springframework.jmx.',\n",
       "    'IJmxTestBean</value> \\xa0               </property> \\xa0           </bean> \\xa0       </property> \\xa0   </bean> \\xa0   <bean id=\"testBean\" class=\"org.springframework.jmx.',\n",
       "    'JmxTestBean\"> \\xa0       <property name=\"name\" value=\"TEST\"/> \\xa0       <property name=\"age\" value=\"100\"/> \\xa0   </bean> </beans> In the preceding example, the InterfaceBasedMBeanInfoAssembler is configured to use the IJmxTestBean interface when constructing the management interface for any bean.',\n",
       "    'It is important to understand that beans processed by the InterfaceBasedMBeanInfoAssembler are not required to 1328']],\n",
       "  'num_chunks': 1}]"
      ]
     },
     "execution_count": 32,
     "metadata": {},
     "output_type": "execute_result"
    }
   ],
   "source": [
    "random.sample(pages_and_texts, k=1)"
   ]
  },
  {
   "cell_type": "code",
   "execution_count": 33,
   "id": "3e767bb2-f69d-43aa-a7b0-aa55a9c2401c",
   "metadata": {},
   "outputs": [],
   "source": [
    "df = pd.DataFrame(pages_and_texts)"
   ]
  },
  {
   "cell_type": "code",
   "execution_count": 34,
   "id": "2472cd4d-59bf-4cf3-9d93-70a802eb0b05",
   "metadata": {},
   "outputs": [
    {
     "data": {
      "application/vnd.jupyter.widget-view+json": {
       "model_id": "29673d2bc4044ccc8ccd8087b183f1ed",
       "version_major": 2,
       "version_minor": 0
      },
      "text/plain": [
       "  0%|          | 0/1429 [00:00<?, ?it/s]"
      ]
     },
     "metadata": {},
     "output_type": "display_data"
    },
    {
     "data": {
      "text/plain": [
       "2255"
      ]
     },
     "execution_count": 34,
     "metadata": {},
     "output_type": "execute_result"
    }
   ],
   "source": [
    "import re\n",
    "\n",
    "# Split each chunk into its own item\n",
    "pages_and_chunks = []\n",
    "for item in tqdm(pages_and_texts): \n",
    "    for sentence_chunk in item[\"sentence_chunks\"]: \n",
    "        chunk_dict = {}\n",
    "        chunk_dict[\"page_number\"] = item[\"page_number\"]\n",
    "\n",
    "        # Join the sentences together into a paragraph-like structure, aka join the list of sentences into one paragraph\n",
    "        joined_sentence_chunk = \"\".join(sentence_chunk).replace(\"  \", \" \").strip()\n",
    "        joined_sentence_chunk = re.sub(r'\\.([A-Z])', r'. \\1', joined_sentence_chunk) # \".A\" => \". A\" (will work for any captial letter)\n",
    "\n",
    "        chunk_dict[\"sentence_chunk\"] = joined_sentence_chunk\n",
    "\n",
    "        # Get some stats on our chunks\n",
    "        chunk_dict[\"chunk_char_count\"] = len(joined_sentence_chunk)\n",
    "        chunk_dict[\"chunk_word_count\"] = len([word for word in joined_sentence_chunk.split(\" \")])\n",
    "        chunk_dict[\"chunk_token_count\"] = len(joined_sentence_chunk) / 4 # 1 token = ~4 chars\n",
    "\n",
    "        pages_and_chunks.append(chunk_dict) \n",
    "\n",
    "len(pages_and_chunks)"
   ]
  },
  {
   "cell_type": "code",
   "execution_count": 38,
   "id": "b8cfae35-f3ed-46fb-b096-a2884b12354f",
   "metadata": {},
   "outputs": [
    {
     "data": {
      "text/plain": [
       "[{'page_number': 860,\n",
       "  'sentence_chunk': 'Java public class MyWebAppInitializer extends AbstractDispatcherServletInitializer { \\xa0  @Override \\xa0  protected WebApplicationContext createRootApplicationContext() { \\xa0    return null; \\xa0  } \\xa0  @Override \\xa0  protected WebApplicationContext createServletApplicationContext() { \\xa0    XmlWebApplicationContext cxt = new XmlWebApplicationContext(); \\xa0    cxt.setConfigLocation(\"/WEB-INF/spring/dispatcher-config.xml\"); \\xa0    return cxt; \\xa0  } \\xa0  @Override \\xa0  protected String[] getServletMappings() { \\xa0    return new String[] { \"/\" }; \\xa0  } } Kotlin class MyWebAppInitializer : AbstractDispatcherServletInitializer() { \\xa0  override fun createRootApplicationContext(): WebApplicationContext? {\\xa0    return null \\xa0  } \\xa0  override fun createServletApplicationContext(): WebApplicationContext { \\xa0    return XmlWebApplicationContext().apply { \\xa0      setConfigLocation(\"/WEB-INF/spring/dispatcher-config.xml\") \\xa0    } \\xa0  } \\xa0  override fun getServletMappings(): Array<String> { \\xa0    return arrayOf(\"/\") \\xa0  } } AbstractDispatcherServletInitializer also provides a convenient way to add Filter instances and have them be automatically mapped to the DispatcherServlet, as the following example shows: 860',\n",
       "  'chunk_char_count': 1178,\n",
       "  'chunk_word_count': 172,\n",
       "  'chunk_token_count': 294.5}]"
      ]
     },
     "execution_count": 38,
     "metadata": {},
     "output_type": "execute_result"
    }
   ],
   "source": [
    "random.sample(pages_and_chunks, k=1)"
   ]
  },
  {
   "cell_type": "code",
   "execution_count": 39,
   "id": "64abcdf2-7466-4a7a-acf4-894ac3df116a",
   "metadata": {},
   "outputs": [
    {
     "name": "stdout",
     "output_type": "stream",
     "text": [
      "Chunk token count: 7.0 | Text: If you want only pooling 428\n",
      "Chunk token count: 25.5 | Text: The SqlUpdate class is concrete. It can be subclassed — for example, to add a custom update method.776\n",
      "Chunk token count: 11.0 | Text: Spring Framework Documentation Version 6.0.0\n",
      "Chunk token count: 27.5 | Text: ③ The Flux::switchOnFirst operator allows you to see whether you are handling a form field or file upload.1152\n",
      "Chunk token count: 21.5 | Text: In other words, you should encounter no difficulties by building with this flag on.347\n"
     ]
    }
   ],
   "source": [
    "df = pd.DataFrame(pages_and_chunks)\n",
    "df.describe().round(2)\n",
    "min_token_length = 30\n",
    "for row in df[df[\"chunk_token_count\"] <= min_token_length].sample(5).iterrows():\n",
    "    print(f'Chunk token count: {row[1][\"chunk_token_count\"]} | Text: {row[1][\"sentence_chunk\"]}')"
   ]
  },
  {
   "cell_type": "code",
   "execution_count": 40,
   "id": "afbb8c42-c7e4-4d91-9eaf-a3fe21654181",
   "metadata": {},
   "outputs": [
    {
     "name": "stdout",
     "output_type": "stream",
     "text": [
      "Chunk token count: 0.75 | Text: 506\n",
      "Chunk token count: 16.75 | Text: In contrast to RestTemplate, WebClient supports the following: 1046\n",
      "Chunk token count: 28.25 | Text: The input content can be a JSON array, or any line-delimited JSON format such as NDJSON, JSON Lines, or JSON 1112\n",
      "Chunk token count: 14.5 | Text: The following listing shows the FormatterRegistry SPI: 264\n",
      "Chunk token count: 15.25 | Text: As an example, here is an actual exception from WebLogic: 825\n"
     ]
    }
   ],
   "source": [
    "min_token_length = 30\n",
    "for row in df[df[\"chunk_token_count\"] <= min_token_length].sample(5).iterrows():\n",
    "    print(f'Chunk token count: {row[1][\"chunk_token_count\"]} | Text: {row[1][\"sentence_chunk\"]}')"
   ]
  },
  {
   "cell_type": "code",
   "execution_count": 41,
   "id": "61c5f6b0-4547-4451-8554-f2a77636e89c",
   "metadata": {},
   "outputs": [
    {
     "data": {
      "text/plain": [
       "[{'page_number': 1,\n",
       "  'sentence_chunk': 'Chapter 1. Spring Framework Overview Spring makes it easy to create Java enterprise applications. It provides everything you need to embrace the Java language in an enterprise environment, with support for Groovy and Kotlin as alternative languages on the JVM, and with the flexibility to create many kinds of architectures depending on an application’s needs. As of Spring Framework 5.1, Spring requires JDK 8+ (Java SE 8+) and provides out-of-the-box support for JDK 11 LTS. Java SE 8 update 60 is suggested as the minimum patch release for Java 8, but it is generally recommended to use a recent patch release. Spring supports a wide range of application scenarios. In a large enterprise, applications often exist for a long time and have to run on a JDK and application server whose upgrade cycle is beyond developer control. Others may run as a single jar with the server embedded, possibly in a cloud environment. Yet others may be standalone applications (such as batch or integration workloads) that do not need a server. Spring is open source.',\n",
       "  'chunk_char_count': 1052,\n",
       "  'chunk_word_count': 175,\n",
       "  'chunk_token_count': 263.0},\n",
       " {'page_number': 1,\n",
       "  'sentence_chunk': 'It has a large and active community that provides continuous feedback based on a diverse range of real-world use cases. This has helped Spring to successfully evolve over a very long time.1.1. What We Mean by \"Spring\" The term \"Spring\" means different things in different contexts. It can be used to refer to the Spring Framework project itself, which is where it all started. Over time, other Spring projects have been built on top of the Spring Framework. Most often, when people say \"Spring\", they mean the entire family of projects. This reference documentation focuses on the foundation: the Spring Framework itself. The Spring Framework is divided into modules. Applications can choose which modules they need.',\n",
       "  'chunk_char_count': 716,\n",
       "  'chunk_word_count': 116,\n",
       "  'chunk_token_count': 179.0}]"
      ]
     },
     "execution_count": 41,
     "metadata": {},
     "output_type": "execute_result"
    }
   ],
   "source": [
    "pages_and_chunks_over_min_token_len = df[df[\"chunk_token_count\"] > min_token_length].to_dict(orient=\"records\")\n",
    "pages_and_chunks_over_min_token_len[:2]"
   ]
  },
  {
   "cell_type": "code",
   "execution_count": 52,
   "id": "a5f7459e-65fe-4648-ba6a-3b8cf068849f",
   "metadata": {},
   "outputs": [
    {
     "data": {
      "application/vnd.jupyter.widget-view+json": {
       "model_id": "bb3f517ace564e91bcb755c8475fa13d",
       "version_major": 2,
       "version_minor": 0
      },
      "text/plain": [
       "  0%|          | 0/2161 [00:00<?, ?it/s]"
      ]
     },
     "metadata": {},
     "output_type": "display_data"
    },
    {
     "name": "stdout",
     "output_type": "stream",
     "text": [
      "CPU times: total: 1min 7s\n",
      "Wall time: 1min 27s\n"
     ]
    },
    {
     "data": {
      "text/plain": [
       "'generic types in expressions, SpEL attempts conversions to maintain type correctness for any objects it encounters. What does this mean in practice?Suppose assignment, using setValue(), is being used to set a List property. The type of the property is actually List<Boolean>. SpEL recognizes that the elements of the list need to be converted to Boolean before being placed in it. The following example shows how to do so: Java class Simple { \\xa0  public List<Boolean> booleanList = new ArrayList<Boolean>(); } Simple simple = new Simple(); simple.booleanList.add(true); EvaluationContext context = SimpleEvaluationContext.forReadOnlyDataBinding().build(); // \"false\" is passed in here as a String. SpEL and the conversion service // will recognize that it needs to be a Boolean and convert it accordingly.parser.parseExpression(\"booleanList[0]\").setValue(context, simple, \"false\"); // b is false Boolean b = simple.booleanList.get(0); Kotlin class Simple { \\xa0  var booleanList: MutableList<Boolean> = ArrayList() } val simple = Simple() simple.booleanList.add(true) val context = SimpleEvaluationContext.forReadOnlyDataBinding().build() // \"false\" is passed in here as a String. SpEL and the conversion service // will recognize that it needs to be a Boolean and convert it accordingly.parser.parseExpression(\"booleanList[0]\").setValue(context, simple, \"false\") // b is false val b = simple.booleanList[0] Parser Configuration It is possible to configure the SpEL expression parser by using a parser configuration object (org.springframework.expression.spel.'"
      ]
     },
     "execution_count": 52,
     "metadata": {},
     "output_type": "execute_result"
    }
   ],
   "source": [
    "%%time\n",
    "\n",
    "embedding_model = SentenceTransformer(model_name_or_path=\"all-mpnet-base-v2\",\n",
    "                                      device=\"cpu\")\n",
    "##%%time\n",
    "\n",
    "# embedding_model.to(\"cpu\")\n",
    "\n",
    "# # Embed each chunk one by one\n",
    "# for item in tqdm(pages_and_chunks_over_min_token_len):\n",
    "#     item[\"embedding\"] = embedding_model.encode(item[\"sentence_chunk\"])\n",
    "\n",
    "device = \"cuda\" if torch.cuda.is_available() else \"cpu\"\n",
    "\n",
    "embedding_model.to(device)\n",
    "\n",
    "for item in tqdm(pages_and_chunks_over_min_token_len):\n",
    "    item[\"embedding\"] = embedding_model.encode(item[\"sentence_chunk\"])\n",
    "\n",
    "text_chunks = [item[\"sentence_chunk\"] for item in pages_and_chunks_over_min_token_len]\n",
    "text_chunks[419]"
   ]
  },
  {
   "cell_type": "code",
   "execution_count": 54,
   "id": "e842728b-4594-4835-b600-0149323530ce",
   "metadata": {},
   "outputs": [
    {
     "name": "stdout",
     "output_type": "stream",
     "text": [
      "CPU times: total: 35.1 s\n",
      "Wall time: 40.9 s\n"
     ]
    },
    {
     "data": {
      "text/plain": [
       "tensor([[ 0.0249, -0.0249, -0.0234,  ...,  0.0007,  0.0794, -0.0078],\n",
       "        [ 0.0362, -0.0242, -0.0043,  ...,  0.0340,  0.1058,  0.0037],\n",
       "        [ 0.0245, -0.0561, -0.0037,  ..., -0.0182,  0.0695,  0.0057],\n",
       "        ...,\n",
       "        [-0.0012, -0.0142,  0.0081,  ...,  0.0203, -0.0066,  0.0148],\n",
       "        [ 0.0009,  0.0007,  0.0173,  ...,  0.0344,  0.0179,  0.0154],\n",
       "        [-0.0446, -0.0184, -0.0290,  ...,  0.0433, -0.0105,  0.0342]],\n",
       "       device='cuda:0')"
      ]
     },
     "execution_count": 54,
     "metadata": {},
     "output_type": "execute_result"
    }
   ],
   "source": [
    "%%time\n",
    "text_chunk_embeddings = embedding_model.encode(text_chunks,\n",
    "                                               batch_size=32, # you can experiment to find which batch size leads to best results\n",
    "                                               convert_to_tensor=True)\n",
    "text_chunk_embeddings  "
   ]
  },
  {
   "cell_type": "code",
   "execution_count": 55,
   "id": "864992e5-cd0a-497b-b290-b96dab6b6abe",
   "metadata": {},
   "outputs": [
    {
     "data": {
      "text/plain": [
       "{'page_number': 280,\n",
       " 'sentence_chunk': 'generic types in expressions, SpEL attempts conversions to maintain type correctness for any objects it encounters. What does this mean in practice?Suppose assignment, using setValue(), is being used to set a List property. The type of the property is actually List<Boolean>. SpEL recognizes that the elements of the list need to be converted to Boolean before being placed in it. The following example shows how to do so: Java class Simple { \\xa0  public List<Boolean> booleanList = new ArrayList<Boolean>(); } Simple simple = new Simple(); simple.booleanList.add(true); EvaluationContext context = SimpleEvaluationContext.forReadOnlyDataBinding().build(); // \"false\" is passed in here as a String. SpEL and the conversion service // will recognize that it needs to be a Boolean and convert it accordingly.parser.parseExpression(\"booleanList[0]\").setValue(context, simple, \"false\"); // b is false Boolean b = simple.booleanList.get(0); Kotlin class Simple { \\xa0  var booleanList: MutableList<Boolean> = ArrayList() } val simple = Simple() simple.booleanList.add(true) val context = SimpleEvaluationContext.forReadOnlyDataBinding().build() // \"false\" is passed in here as a String. SpEL and the conversion service // will recognize that it needs to be a Boolean and convert it accordingly.parser.parseExpression(\"booleanList[0]\").setValue(context, simple, \"false\") // b is false val b = simple.booleanList[0] Parser Configuration It is possible to configure the SpEL expression parser by using a parser configuration object (org.springframework.expression.spel.',\n",
       " 'chunk_char_count': 1556,\n",
       " 'chunk_word_count': 206,\n",
       " 'chunk_token_count': 389.0,\n",
       " 'embedding': array([-1.25531787e-02, -5.33149280e-02,  2.85472604e-03, -3.04528214e-02,\n",
       "        -1.04969125e-02,  1.22659160e-02,  2.38879938e-02, -5.37682362e-02,\n",
       "        -6.85373545e-02, -3.78104076e-02,  1.06325150e-02,  5.21471687e-02,\n",
       "         5.00014275e-02,  5.91170266e-02,  1.68905072e-02, -4.41717096e-02,\n",
       "         6.59448653e-02, -2.00990587e-02,  1.33103300e-02, -1.00367516e-02,\n",
       "        -3.14175151e-02, -1.62375309e-02,  1.55363721e-03,  5.38575184e-03,\n",
       "        -1.33708892e-02, -7.18157291e-02,  2.00550314e-02, -1.68531667e-02,\n",
       "        -5.30328043e-02,  3.28576565e-02, -4.66431491e-02, -9.16515570e-03,\n",
       "        -9.10690799e-03, -5.34560718e-02,  2.04900539e-06,  1.64289004e-03,\n",
       "        -1.57736950e-02,  7.96972495e-03,  1.43894870e-02,  4.45076264e-02,\n",
       "        -1.00886170e-02, -1.07512372e-02, -2.86941435e-02,  5.51656936e-04,\n",
       "         1.36987381e-02, -1.17515344e-02,  3.64934504e-02, -2.41026077e-02,\n",
       "        -4.39233333e-02, -6.57896278e-03, -7.35707488e-03,  8.94952752e-03,\n",
       "         1.91941056e-02,  4.79134843e-02,  5.78248724e-02, -8.95245839e-03,\n",
       "         3.42895612e-02, -4.19251621e-02,  8.18830542e-03,  6.94816336e-02,\n",
       "         3.85998562e-03,  7.02619459e-03, -2.90712975e-02, -2.30674539e-02,\n",
       "        -5.14792884e-03, -2.46076118e-02, -6.51704744e-02, -3.93585178e-05,\n",
       "         2.37020645e-02, -6.35480434e-02,  3.76083031e-02,  2.75759120e-03,\n",
       "        -2.09316555e-02,  2.12297533e-02,  6.07612208e-02,  2.79690214e-02,\n",
       "         6.24055155e-02, -1.78204384e-02, -1.21952752e-02,  2.11224183e-02,\n",
       "        -7.01681059e-03,  4.45972681e-02, -1.06063774e-02, -4.89402674e-02,\n",
       "        -2.18001790e-02,  3.74311842e-02, -2.60470305e-02,  3.18127349e-02,\n",
       "        -6.38070926e-02, -1.84042845e-02, -2.99588386e-02,  5.41655254e-03,\n",
       "        -2.63984948e-02, -2.54859012e-02, -1.31357787e-02, -2.99841128e-02,\n",
       "         3.33012193e-02,  7.72390515e-03,  1.77877955e-02, -5.88565245e-02,\n",
       "        -4.50694524e-02,  2.45331246e-02,  9.07555595e-03, -1.68942120e-02,\n",
       "        -2.67228726e-02,  4.66510392e-04,  1.28414966e-02,  4.61777933e-02,\n",
       "        -2.85329856e-02, -3.49138398e-03,  3.63361277e-02, -3.00305393e-02,\n",
       "        -4.65767309e-02,  1.21370414e-02,  3.69757712e-02,  3.86288539e-02,\n",
       "         2.48773471e-02, -7.58744683e-03, -2.38939747e-02,  3.58423106e-02,\n",
       "        -6.66186437e-02, -2.36482043e-02, -3.38168293e-02, -4.07966971e-02,\n",
       "        -3.23707983e-02,  3.44781429e-02, -4.16371375e-02,  3.14524099e-02,\n",
       "         1.93881355e-02, -5.31357080e-02,  2.03883108e-02, -9.20695513e-02,\n",
       "         1.92209110e-02, -4.16288599e-02, -1.83188077e-02, -4.00186405e-02,\n",
       "        -6.46504462e-02,  2.60699242e-02, -5.07062227e-02,  1.73911154e-02,\n",
       "         5.47976997e-05,  3.81556824e-02, -4.05428521e-02, -2.70291581e-03,\n",
       "        -3.47771049e-02,  4.46383171e-02,  6.42450014e-03, -4.46081497e-02,\n",
       "        -5.59602864e-02,  2.14601904e-02, -3.54956463e-02, -6.14766963e-03,\n",
       "         7.15720430e-02,  5.01719303e-02, -7.45628476e-02, -1.64089128e-02,\n",
       "        -5.49726784e-02,  3.75816301e-02,  4.65024915e-03, -4.64048535e-02,\n",
       "         7.28545850e-03, -7.16688558e-02, -4.50460007e-03, -2.13114708e-03,\n",
       "         1.44426646e-02, -3.51813845e-02, -4.05291058e-02,  1.80644225e-02,\n",
       "        -1.13509148e-02, -3.45748477e-02,  1.17972801e-02,  3.66165899e-02,\n",
       "         4.75765429e-02,  7.43549876e-03,  1.86988432e-02, -3.08558214e-02,\n",
       "        -1.44580957e-02,  7.52605200e-02, -1.68277342e-02, -1.89235937e-02,\n",
       "         4.19089049e-02,  6.55974746e-02, -3.79420072e-02, -2.99281185e-03,\n",
       "        -3.77834737e-02,  8.33318383e-03, -3.45969498e-02,  4.66850959e-02,\n",
       "        -4.57496122e-02,  8.95745028e-03, -5.55113293e-02,  3.16461697e-02,\n",
       "         3.58209126e-02, -8.02934393e-02, -2.12635268e-02,  6.93704560e-02,\n",
       "        -1.59572621e-04,  8.24972391e-02, -5.60182557e-02,  3.24879400e-03,\n",
       "        -4.61757444e-02, -3.02669313e-03, -1.19295605e-02,  1.14609050e-02,\n",
       "        -8.71169288e-03,  1.91400442e-02, -2.11969540e-02, -6.04793951e-02,\n",
       "        -7.34557658e-02,  2.88719237e-02,  1.50539074e-02, -4.41498458e-02,\n",
       "         1.89806148e-02,  2.94924118e-02,  2.84261908e-02,  6.33130148e-02,\n",
       "         1.82226654e-02, -5.27918851e-03, -4.20591384e-02,  6.06427109e-03,\n",
       "         7.91273080e-03, -9.55468565e-02,  1.68743096e-02, -2.08408609e-02,\n",
       "         4.93417606e-02, -3.51811945e-02,  1.69187114e-02,  3.57989110e-02,\n",
       "        -6.49016649e-02, -1.70946866e-02, -7.07842922e-03, -9.10211413e-04,\n",
       "        -2.68799756e-02,  6.27463683e-03,  2.31184140e-02,  2.59895250e-02,\n",
       "        -3.01212650e-02,  3.68124135e-02, -5.30335761e-04, -3.53883766e-02,\n",
       "        -1.13589009e-02,  3.38151231e-02, -3.38927866e-03, -2.82550696e-02,\n",
       "         3.01620224e-03,  3.89157012e-02,  6.77870307e-03,  2.45563556e-02,\n",
       "        -3.65970545e-02, -3.94931622e-02,  2.73812283e-03,  4.84634656e-03,\n",
       "         9.27912071e-04, -2.71560904e-02, -6.52604774e-02, -1.66065921e-03,\n",
       "        -1.46656074e-02, -2.86031123e-02, -1.93911642e-02, -5.18038124e-02,\n",
       "         5.42030782e-02, -3.88087556e-02,  1.79088879e-02,  2.89147459e-02,\n",
       "        -9.11852811e-04, -2.86983158e-02,  5.65198250e-03, -1.19081642e-02,\n",
       "        -9.84749291e-03, -4.64013871e-03,  2.84097530e-02,  2.34439503e-02,\n",
       "         4.46625762e-02,  1.07224183e-02,  7.93595240e-02, -2.11299234e-03,\n",
       "         6.34566769e-02, -8.05562083e-03,  6.09539896e-02,  4.66182716e-02,\n",
       "         1.00301336e-02,  2.93831006e-02,  2.87187099e-02, -1.09189162e-02,\n",
       "        -6.18848056e-02,  1.15545606e-02, -1.88356917e-02,  2.35559847e-02,\n",
       "         1.94104053e-02,  8.55543315e-02,  1.01017319e-02, -3.42764407e-02,\n",
       "         1.51737565e-02, -3.99153726e-03, -2.84666009e-02, -3.62129770e-02,\n",
       "        -2.67419405e-02,  2.49186251e-02,  2.41794959e-02, -1.17455311e-02,\n",
       "        -4.62902039e-02,  1.69800110e-02, -2.36336067e-02,  2.88336538e-02,\n",
       "         3.01180575e-02, -2.10089479e-02, -4.16961573e-02,  7.67662982e-03,\n",
       "        -4.22578380e-02,  3.48446965e-02, -8.35956410e-02, -2.31174529e-02,\n",
       "        -5.07685356e-02,  1.09514371e-02,  3.81207950e-02,  2.68877354e-02,\n",
       "         1.06699113e-03,  2.59096306e-02, -1.25637243e-03,  1.17923189e-02,\n",
       "        -2.19457690e-02,  3.45914252e-02, -1.86163560e-02,  1.37322815e-02,\n",
       "        -3.07810842e-03, -5.80807924e-02,  5.43155074e-02, -2.53080577e-02,\n",
       "         8.70578922e-03, -3.02064847e-02, -2.24420000e-02,  2.99388287e-03,\n",
       "         4.87418212e-02,  1.72504466e-02, -2.84530427e-02,  1.99495498e-02,\n",
       "         1.64227765e-02,  8.03010687e-02,  5.11856005e-02,  1.35308215e-02,\n",
       "        -2.51821112e-02, -2.08944846e-02, -4.86965328e-02,  3.84276509e-02,\n",
       "         6.67792708e-02, -4.62799743e-02,  3.06315105e-02,  1.78371556e-02,\n",
       "        -1.35638108e-02,  2.38213432e-03, -2.45397706e-02, -4.97163692e-03,\n",
       "        -2.17022803e-02, -1.57535616e-02, -4.26551029e-02, -3.73088233e-02,\n",
       "        -1.99261662e-02, -2.39136955e-03,  2.09779050e-02,  6.49358109e-02,\n",
       "         3.63898240e-02, -2.19895039e-02, -4.08000052e-02, -4.71753031e-02,\n",
       "         1.34552289e-02, -8.75987206e-03,  5.28902039e-02,  1.46162966e-02,\n",
       "        -3.57512943e-02,  1.50049233e-03,  4.38836589e-02, -4.84544635e-02,\n",
       "        -7.05789775e-02, -1.29963299e-02, -3.25206518e-02, -2.32709777e-02,\n",
       "         6.74473820e-03, -8.32712874e-02,  8.11096951e-02,  1.54195027e-02,\n",
       "        -2.37266556e-03, -3.51192914e-02,  9.79095977e-03, -4.69582214e-04,\n",
       "        -3.84991951e-02, -6.02560490e-02, -4.14519832e-02,  3.31675857e-02,\n",
       "        -1.60328839e-02,  2.90015433e-03,  3.92187536e-02, -1.50207445e-01,\n",
       "        -3.36447805e-02,  4.87014428e-02,  2.63910312e-02,  8.73271096e-03,\n",
       "         1.89219154e-02,  9.97928716e-03, -2.63623260e-02,  3.11044883e-02,\n",
       "         3.57243307e-02,  1.52283566e-04, -2.01279540e-02,  3.10778674e-02,\n",
       "         3.05429902e-02,  1.42321540e-02,  7.25669265e-02, -5.06176054e-03,\n",
       "        -7.00356066e-02, -5.01590818e-02,  1.92867182e-02,  3.77946906e-02,\n",
       "        -5.26452623e-02, -1.16092488e-02, -9.09577385e-02,  3.99147756e-02,\n",
       "         4.17227559e-02,  1.04862221e-01,  3.91217247e-02,  5.40984571e-02,\n",
       "         1.82598848e-02, -7.87059590e-03,  7.70730153e-02,  2.75197886e-02,\n",
       "        -3.35873105e-02, -6.47635162e-02, -7.07079768e-02,  5.93501851e-02,\n",
       "         3.05484943e-02, -7.06872204e-03, -1.31747071e-02,  8.81173741e-03,\n",
       "        -6.17430620e-02, -5.66166304e-02,  3.58196013e-02,  1.45844463e-03,\n",
       "         3.64509076e-02, -6.80481084e-03, -2.79047508e-02,  3.84362694e-03,\n",
       "        -4.82170563e-03, -1.21661788e-02,  5.49799576e-03,  9.23428102e-04,\n",
       "         6.13166485e-03,  5.17460401e-04,  1.62305613e-03, -7.40800006e-03,\n",
       "        -6.60026865e-03,  3.51482108e-02,  4.72414345e-02,  3.52245681e-02,\n",
       "         6.89929910e-03,  2.59030126e-02,  3.75236222e-03, -4.29954380e-03,\n",
       "        -3.86161134e-02,  2.93207467e-02, -5.53087285e-03,  4.03393880e-02,\n",
       "         6.35624304e-02,  2.15041302e-02, -2.91201603e-02,  2.15928964e-02,\n",
       "         2.85174008e-02,  5.30955940e-02,  5.18663153e-02,  5.89648075e-02,\n",
       "        -1.11996755e-03,  1.82310008e-02, -2.49008648e-02,  3.43262069e-02,\n",
       "         2.58881021e-02,  2.06960943e-02, -3.17137502e-02, -5.43987751e-02,\n",
       "        -3.37164104e-02,  1.64740738e-02,  2.49669962e-02,  1.45399095e-02,\n",
       "         7.72253145e-03, -3.94734219e-02,  4.20874692e-02,  9.82149690e-03,\n",
       "         5.27936928e-02, -1.39322607e-02,  7.13445130e-04, -4.86894464e-03,\n",
       "        -3.04457694e-02, -2.26348061e-02, -2.25993712e-02,  4.53968272e-02,\n",
       "        -1.23516214e-03,  2.43069828e-02,  6.90172706e-03,  9.87890661e-02,\n",
       "         9.08244625e-02,  1.01801632e-02,  4.09180932e-02,  2.23333836e-02,\n",
       "        -1.65430754e-02,  2.13081688e-02,  4.64323163e-02,  8.64131600e-02,\n",
       "         3.82755846e-02,  6.61726817e-02, -1.58987064e-02,  5.47772981e-02,\n",
       "         2.80083567e-02,  3.72115076e-02, -2.74321269e-02, -3.75770330e-02,\n",
       "         1.25310877e-02,  5.82037168e-03, -2.81996734e-04, -1.33250188e-02,\n",
       "        -7.40127563e-02, -7.55149126e-03,  5.97277246e-02, -2.13848464e-02,\n",
       "        -8.90618097e-03, -7.55718574e-02,  1.19252056e-02, -4.50964551e-03,\n",
       "        -1.41217676e-03, -1.76441227e-03, -1.60600264e-02,  2.48805303e-02,\n",
       "        -3.97525430e-02,  5.81004191e-03, -5.63161634e-02, -1.83468107e-02,\n",
       "        -3.03564947e-02, -2.98235212e-02,  3.72985974e-02, -7.96858221e-03,\n",
       "        -2.99960695e-04,  3.25120464e-02,  5.98663613e-02, -8.01531151e-02,\n",
       "        -9.53714475e-02, -5.67243015e-03,  6.62057549e-02, -2.96209659e-03,\n",
       "         1.02439702e-01, -8.52834135e-02,  5.02896437e-04,  2.91376449e-02,\n",
       "         4.51528467e-02, -6.22243900e-03, -3.34333219e-02, -3.57200652e-02,\n",
       "         6.49426877e-02,  1.16593977e-02, -3.79153192e-02, -5.18864529e-33,\n",
       "        -2.17123125e-02,  4.52031381e-02,  3.69404256e-02,  6.15219027e-03,\n",
       "         4.26399428e-03,  6.07673731e-03, -4.70711524e-03, -5.96348429e-03,\n",
       "        -2.54043052e-03,  2.56968401e-02,  4.96154092e-03, -3.19915125e-03,\n",
       "        -8.08887416e-04,  1.04451934e-02,  4.18510772e-02, -4.58590575e-02,\n",
       "        -7.93792028e-03, -3.56909260e-02, -3.59922908e-02, -2.25787833e-02,\n",
       "         4.97966595e-02, -5.72926402e-02, -2.24724934e-02, -1.41904363e-02,\n",
       "         4.20995355e-02,  4.13443036e-02, -3.40353744e-03, -2.20209975e-02,\n",
       "        -5.67928217e-02, -6.36464078e-03,  7.34057650e-03, -4.37320620e-02,\n",
       "         2.09199428e-03,  2.44408995e-02, -3.25578339e-02,  1.35217775e-02,\n",
       "        -4.78359722e-02,  2.68389434e-02,  3.45219001e-02,  5.45633547e-02,\n",
       "        -1.26943514e-02, -2.56287921e-02,  4.32762168e-02,  2.19930001e-02,\n",
       "        -6.89421073e-02, -3.17110047e-02, -3.62468734e-02, -1.65691171e-02,\n",
       "         3.08889151e-02, -1.47871608e-02, -2.73073334e-02, -3.62023823e-02,\n",
       "        -8.27510189e-03, -5.43836365e-03, -3.47734392e-02,  9.47295688e-03,\n",
       "        -1.06883235e-02,  2.42786463e-02,  1.69948600e-02,  3.66089568e-02,\n",
       "         3.37446742e-02, -2.52485108e-02,  1.70287478e-03, -2.59609427e-02,\n",
       "         2.88016861e-03, -5.81753626e-02, -4.71288245e-03, -9.59777460e-03,\n",
       "        -1.71543043e-02,  2.29763761e-02,  2.11911276e-02,  4.20636199e-02,\n",
       "        -3.56538892e-02,  5.59690408e-02,  5.19404784e-02, -4.20979708e-02,\n",
       "         3.71857248e-02,  6.28339276e-02, -1.16804801e-02, -1.56553797e-02,\n",
       "        -5.62320761e-02, -1.75252836e-02,  3.88086587e-02, -2.51396000e-02,\n",
       "        -4.42101024e-02, -4.90943938e-02,  2.33374964e-02, -1.24914479e-02,\n",
       "        -1.55123854e-02, -8.31911862e-02, -4.18881932e-03,  5.66592962e-02,\n",
       "         4.82058860e-02,  6.67579239e-03, -6.86557665e-02,  8.00981745e-03,\n",
       "        -4.85627353e-02,  2.92597748e-02,  2.06064619e-02,  2.30854005e-02,\n",
       "        -3.50407287e-02, -1.56195723e-02,  1.46738784e-02,  3.20548117e-02,\n",
       "         1.29674636e-02,  7.71878660e-02,  2.40646005e-02,  5.25378697e-02,\n",
       "         1.05507970e-02,  4.36863769e-03,  1.37557937e-02, -7.76544353e-03,\n",
       "        -4.92127128e-02, -5.59677510e-03, -1.31638777e-02, -1.27970614e-02,\n",
       "         5.65824099e-02,  2.05027424e-02,  7.26954453e-03, -2.99678743e-02,\n",
       "        -1.39066819e-02,  8.19813088e-03,  1.88949276e-02,  8.97163339e-03,\n",
       "         2.31775492e-02, -3.78134474e-02, -4.98838089e-02, -6.86050728e-02,\n",
       "         2.16382314e-02, -4.98861074e-02,  3.50868255e-02,  9.34907608e-03,\n",
       "         2.90366387e-07,  4.25804630e-02, -3.73833217e-02,  3.18888165e-02,\n",
       "         3.37556116e-02,  3.61521468e-02,  6.50108010e-02,  1.47081597e-03,\n",
       "         4.76749614e-02,  4.36203033e-02, -1.67828705e-02,  1.94674842e-02,\n",
       "        -2.47680675e-02, -4.26148884e-02,  1.06889699e-02,  7.50676841e-02,\n",
       "        -4.08475399e-02,  1.24565810e-02, -3.13197728e-04,  3.31650898e-02,\n",
       "         4.79246564e-02,  1.64612867e-02, -2.51375437e-02, -5.32343891e-03,\n",
       "        -1.79610029e-02,  1.13489367e-02,  1.65131204e-02,  3.68293487e-02,\n",
       "         2.45418996e-02,  1.51584372e-02,  4.37460514e-03, -3.62129919e-02,\n",
       "        -2.85528339e-02,  6.59105033e-02, -6.16992777e-03,  2.76182368e-02,\n",
       "         3.93234566e-03,  1.32563505e-02,  4.84539308e-02, -2.07282690e-04,\n",
       "         8.00833106e-03, -6.63643405e-02, -7.16261938e-02, -1.79125909e-02,\n",
       "         1.79687105e-02,  8.03295597e-02, -1.11825299e-03,  2.72636339e-02,\n",
       "        -1.03666494e-02,  1.17147854e-02,  4.30682153e-02, -3.54727320e-02,\n",
       "        -4.31888271e-03, -2.97430903e-02,  3.75686884e-02,  3.00432891e-02,\n",
       "         1.69698596e-02, -4.47717980e-02,  5.91895031e-03, -4.09089886e-02,\n",
       "        -2.09530275e-02, -4.48294217e-03, -1.29047399e-02, -1.86019130e-02,\n",
       "         4.04297486e-02, -3.13469730e-02, -4.41470630e-02, -2.77194623e-02,\n",
       "         3.56772178e-34,  1.19203506e-02, -1.85108539e-02,  1.90395117e-02,\n",
       "         9.07214358e-03, -1.70859657e-02, -4.71867733e-02, -6.47803918e-02,\n",
       "         5.35512017e-03,  9.58538149e-03,  5.80651462e-02,  1.31876832e-02],\n",
       "       dtype=float32)}"
      ]
     },
     "execution_count": 55,
     "metadata": {},
     "output_type": "execute_result"
    }
   ],
   "source": [
    "pages_and_chunks_over_min_token_len[419]"
   ]
  },
  {
   "cell_type": "code",
   "execution_count": 65,
   "id": "9544ed48-f3f5-4472-85ce-5790609d4138",
   "metadata": {},
   "outputs": [],
   "source": [
    "# Save embeddings to file\n",
    "text_chunks_and_embeddings_df = pd.DataFrame(pages_and_chunks_over_min_token_len)\n",
    "embeddings_df_save_path = \"text_chunks_and_embeddings_df.csv\"\n",
    "text_chunks_and_embeddings_df.to_csv(embeddings_df_save_path, index=False)\n"
   ]
  },
  {
   "cell_type": "code",
   "execution_count": 66,
   "id": "f514de16-9a26-4b0b-a6c7-3586a4ca1fc7",
   "metadata": {},
   "outputs": [],
   "source": [
    "\n",
    "with open('text_chunks_and_embeddings_df.json', 'w') as fp:\n",
    "    json.dump(text_chunks_and_embeddings_df.to_json(orient='records'), fp)"
   ]
  },
  {
   "cell_type": "code",
   "execution_count": null,
   "id": "4ab388e2-7050-4303-ae6a-d364a6462983",
   "metadata": {},
   "outputs": [],
   "source": []
  }
 ],
 "metadata": {
  "kernelspec": {
   "display_name": "Python 3 (ipykernel)",
   "language": "python",
   "name": "python3"
  },
  "language_info": {
   "codemirror_mode": {
    "name": "ipython",
    "version": 3
   },
   "file_extension": ".py",
   "mimetype": "text/x-python",
   "name": "python",
   "nbconvert_exporter": "python",
   "pygments_lexer": "ipython3",
   "version": "3.9.19"
  }
 },
 "nbformat": 4,
 "nbformat_minor": 5
}
