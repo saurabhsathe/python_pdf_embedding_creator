{
 "cells": [
  {
   "cell_type": "code",
   "execution_count": 26,
   "id": "f10764ba-e11e-4c87-ad82-930cd6b7b9c5",
   "metadata": {},
   "outputs": [],
   "source": [
    "import os\n",
    "import requests\n",
    "import fitz \n",
    "from tqdm.auto import tqdm\n",
    "import random\n",
    "import pandas as pd\n",
    "from spacy.lang.en import English\n",
    "# Get PDF document path\n"
   ]
  },
  {
   "cell_type": "code",
   "execution_count": 15,
   "id": "03db79c1-5148-47d4-9e13-afc2ce47bf2f",
   "metadata": {},
   "outputs": [
    {
     "name": "stdout",
     "output_type": "stream",
     "text": [
      "File resources/spring-framework.pdf exists.\n"
     ]
    }
   ],
   "source": [
    "pdf_path = \"resources/spring-framework.pdf\"\n",
    "\n",
    "# Download PDF\n",
    "if not os.path.exists(pdf_path):\n",
    "    print(\"[INFO] File doesn't exist, downloading...\")\n",
    "    url = \"https://docs.spring.io/spring-framework/docs/6.0.0/reference/pdf/spring-framework.pdf\"\n",
    "    filename = pdf_path\n",
    "    response = requests.get(url)\n",
    "    if response.status_code == 200:\n",
    "        with open(filename, \"wb\") as file:\n",
    "            file.write(response.content) \n",
    "        print(f\"[INFO] The file has been download and saved as {filename}\")\n",
    "    else:\n",
    "        print(f\"[INFO] Failed to download the file. Status code: {reponse.status_code}\")\n",
    "else:\n",
    "    print(f\"File {pdf_path} exists.\")\n",
    "\n"
   ]
  },
  {
   "cell_type": "code",
   "execution_count": 16,
   "id": "9fa8aa53-4f8a-44c9-b497-142c15642b85",
   "metadata": {},
   "outputs": [
    {
     "data": {
      "application/vnd.jupyter.widget-view+json": {
       "model_id": "cd598505ccf44857920de154550e373e",
       "version_major": 2,
       "version_minor": 0
      },
      "text/plain": [
       "0it [00:00, ?it/s]"
      ]
     },
     "metadata": {},
     "output_type": "display_data"
    },
    {
     "data": {
      "text/plain": [
       "[{'page_number': 0,\n",
       "  'page_char_count': 44,\n",
       "  'page_word_count': 5,\n",
       "  'page_setence_count_raw': 1,\n",
       "  'page_token_count': 11.0,\n",
       "  'text': 'Spring Framework Documentation Version 6.0.0'},\n",
       " {'page_number': 1,\n",
       "  'page_char_count': 3152,\n",
       "  'page_word_count': 494,\n",
       "  'page_setence_count_raw': 31,\n",
       "  'page_token_count': 788.0,\n",
       "  'text': 'Chapter 1. Spring Framework Overview Spring makes it easy to create Java enterprise applications. It provides everything you need to embrace the Java language in an enterprise environment, with support for Groovy and Kotlin as alternative languages on the JVM, and with the flexibility to create many kinds of architectures depending on an application’s needs. As of Spring Framework 5.1, Spring requires JDK 8+ (Java SE 8+) and provides out-of-the-box support for JDK 11 LTS. Java SE 8 update 60 is suggested as the minimum patch release for Java 8, but it is generally recommended to use a recent patch release. Spring supports a wide range of application scenarios. In a large enterprise, applications often exist for a long time and have to run on a JDK and application server whose upgrade cycle is beyond developer control. Others may run as a single jar with the server embedded, possibly in a cloud environment. Yet others may be standalone applications (such as batch or integration workloads) that do not need a server. Spring is open source. It has a large and active community that provides continuous feedback based on a diverse range of real-world use cases. This has helped Spring to successfully evolve over a very long time. 1.1. What We Mean by \"Spring\" The term \"Spring\" means different things in different contexts. It can be used to refer to the Spring Framework project itself, which is where it all started. Over time, other Spring projects have been built on top of the Spring Framework. Most often, when people say \"Spring\", they mean the entire family of projects. This reference documentation focuses on the foundation: the Spring Framework itself. The Spring Framework is divided into modules. Applications can choose which modules they need. At the heart are the modules of the core container, including a configuration model and a dependency injection mechanism. Beyond that, the Spring Framework provides foundational support for different application architectures, including messaging, transactional data and persistence, and web. It also includes the Servlet-based Spring MVC web framework and, in parallel, the Spring WebFlux reactive web framework. A note about modules: Spring’s framework jars allow for deployment to JDK 9’s module path (\"Jigsaw\"). For use in Jigsaw-enabled applications, the Spring Framework 5 jars come with \"Automatic-Module-Name\" manifest entries which define stable language-level module names (\"spring.core\", \"spring.context\", etc.) independent from jar artifact names (the jars follow the same naming pattern with \"-\" instead of \".\", e.g. \"spring-core\" and \"spring-context\"). Of course, Spring’s framework jars keep working fine on the classpath on both JDK 8 and 9+. 1.2. History of Spring and the Spring Framework Spring came into being in 2003 as a response to the complexity of the early J2EE specifications. While some consider Java EE and its modern-day successor Jakarta EE to be in competition with Spring, they are in fact complementary. The Spring programming model does not embrace the Jakarta EE platform specification; rather, it integrates with carefully selected individual 1'}]"
      ]
     },
     "execution_count": 16,
     "metadata": {},
     "output_type": "execute_result"
    }
   ],
   "source": [
    "def text_formatter(text: str) -> str: \n",
    "    \"\"\"Performs minor formatting on text.\"\"\"\n",
    "    cleaned_text = text.replace(\"\\n\", \" \").strip()\n",
    "    return cleaned_text\n",
    "\n",
    "def open_and_read_pdf(pdf_path: str) -> list[dict]:\n",
    "    doc = fitz.open(pdf_path)\n",
    "    pages_and_texts = [] \n",
    "    for page_number, page in tqdm(enumerate(doc)):\n",
    "        text = page.get_text()\n",
    "        text = text_formatter(text=text)\n",
    "        pages_and_texts.append({\"page_number\": page_number,\n",
    "                                \"page_char_count\": len(text),\n",
    "                                \"page_word_count\": len(text.split(\" \")),\n",
    "                                \"page_setence_count_raw\": len(text.split(\". \")),\n",
    "                                \"page_token_count\": len(text) / 4, # 1 token = ~4 characters\n",
    "                                \"text\": text})\n",
    "    return pages_and_texts\n",
    "\n",
    "pages_and_texts = open_and_read_pdf(pdf_path=pdf_path)\n",
    "pages_and_texts[:2]"
   ]
  },
  {
   "cell_type": "code",
   "execution_count": 17,
   "id": "e8d8f880-e26f-4347-a44a-1cce2bb8e5c7",
   "metadata": {},
   "outputs": [
    {
     "data": {
      "text/plain": [
       "[{'page_number': 439,\n",
       "  'page_char_count': 407,\n",
       "  'page_word_count': 66,\n",
       "  'page_setence_count_raw': 2,\n",
       "  'page_token_count': 101.75,\n",
       "  'text': 'Java @Configuration(proxyBeanMethods = false) public class DataSourceConfiguration { \\xa0   @Bean \\xa0   public SimpleDataSource dataSource() { \\xa0       return new SimpleDataSource(); \\xa0   } } Since there isn’t any particular condition on this class, dataSourceConfiguration and dataSource are identified as candidates. The AOT engine will convert the configuration class above to code similar to the following: 439'},\n",
       " {'page_number': 278,\n",
       "  'page_char_count': 1658,\n",
       "  'page_word_count': 233,\n",
       "  'page_setence_count_raw': 8,\n",
       "  'page_token_count': 414.5,\n",
       "  'text': 'Java ExpressionParser parser = new SpelExpressionParser(); Expression exp = parser.parseExpression(\"new String(\\'hello world\\').toUpperCase()\"); ① String message = exp.getValue(String.class); ① Construct a new String from the literal and make it be upper case. Kotlin val parser = SpelExpressionParser() val exp = parser.parseExpression(\"new String(\\'hello world\\').toUpperCase()\")  ① val message = exp.getValue(String::class.java) ① Construct a new String from the literal and make it be upper case. Note the use of the generic method: public <T> T getValue(Class<T> desiredResultType). Using this method removes the need to cast the value of the expression to the desired result type. An EvaluationException is thrown if the value cannot be cast to the type T or converted by using the registered type converter. The more common usage of SpEL is to provide an expression string that is evaluated against a specific object instance (called the root object). The following example shows how to retrieve the name property from an instance of the Inventor class or create a boolean condition: Java // Create and set a calendar GregorianCalendar c = new GregorianCalendar(); c.set(1856, 7, 9); // The constructor arguments are name, birthday, and nationality. Inventor tesla = new Inventor(\"Nikola Tesla\", c.getTime(), \"Serbian\"); ExpressionParser parser = new SpelExpressionParser(); Expression exp = parser.parseExpression(\"name\"); // Parse name as an expression String name = (String) exp.getValue(tesla); // name == \"Nikola Tesla\" exp = parser.parseExpression(\"name == \\'Nikola Tesla\\'\"); boolean result = exp.getValue(tesla, Boolean.class); // result == true 278'},\n",
       " {'page_number': 556,\n",
       "  'page_char_count': 1939,\n",
       "  'page_word_count': 270,\n",
       "  'page_setence_count_raw': 17,\n",
       "  'page_token_count': 484.75,\n",
       "  'text': 'denote whether resource locations for properties files and inlined properties declared by superclasses should be inherited. The default value for both flags is true. This means that a test class inherits the locations and inlined properties declared by any superclasses. Specifically, the locations and inlined properties for a test class are appended to the locations and inlined properties declared by superclasses. Thus, subclasses have the option of extending the locations and inlined properties. Note that properties that appear later shadow (that is, override) properties of the same name that appear earlier. In addition, the aforementioned precedence rules apply for inherited test property sources as well. If the inheritLocations or inheritProperties attribute in @TestPropertySource is set to false, the locations or inlined properties, respectively, for the test class shadow and effectively replace the configuration defined by superclasses. \\uf05a As of Spring Framework 5.3, test configuration may also be inherited from enclosing classes. See @Nested test class configuration for details. In the next example, the ApplicationContext for BaseTest is loaded by using only the base.properties file as a test property source. In contrast, the ApplicationContext for ExtendedTest is loaded by using the base.properties and extended.properties files as test property source locations. The following example shows how to define properties in both a subclass and its superclass by using properties files: Java @TestPropertySource(\"base.properties\") @ContextConfiguration class BaseTest { \\xa0   // ... } @TestPropertySource(\"extended.properties\") @ContextConfiguration class ExtendedTest extends BaseTest { \\xa0   // ... } Kotlin @TestPropertySource(\"base.properties\") @ContextConfiguration open class BaseTest { \\xa0   // ... } @TestPropertySource(\"extended.properties\") @ContextConfiguration class ExtendedTest : BaseTest() { \\xa0   // ... } 556'}]"
      ]
     },
     "execution_count": 17,
     "metadata": {},
     "output_type": "execute_result"
    }
   ],
   "source": [
    "random.sample(pages_and_texts, k=3)"
   ]
  },
  {
   "cell_type": "code",
   "execution_count": 23,
   "id": "065ee878-12df-4eeb-a4f7-aee9ad212d05",
   "metadata": {},
   "outputs": [
    {
     "data": {
      "text/html": [
       "<div>\n",
       "<style scoped>\n",
       "    .dataframe tbody tr th:only-of-type {\n",
       "        vertical-align: middle;\n",
       "    }\n",
       "\n",
       "    .dataframe tbody tr th {\n",
       "        vertical-align: top;\n",
       "    }\n",
       "\n",
       "    .dataframe thead th {\n",
       "        text-align: right;\n",
       "    }\n",
       "</style>\n",
       "<table border=\"1\" class=\"dataframe\">\n",
       "  <thead>\n",
       "    <tr style=\"text-align: right;\">\n",
       "      <th></th>\n",
       "      <th>page_number</th>\n",
       "      <th>page_char_count</th>\n",
       "      <th>page_word_count</th>\n",
       "      <th>page_setence_count_raw</th>\n",
       "      <th>page_token_count</th>\n",
       "      <th>text</th>\n",
       "    </tr>\n",
       "  </thead>\n",
       "  <tbody>\n",
       "    <tr>\n",
       "      <th>0</th>\n",
       "      <td>0</td>\n",
       "      <td>44</td>\n",
       "      <td>5</td>\n",
       "      <td>1</td>\n",
       "      <td>11.00</td>\n",
       "      <td>Spring Framework Documentation Version 6.0.0</td>\n",
       "    </tr>\n",
       "    <tr>\n",
       "      <th>1</th>\n",
       "      <td>1</td>\n",
       "      <td>3152</td>\n",
       "      <td>494</td>\n",
       "      <td>31</td>\n",
       "      <td>788.00</td>\n",
       "      <td>Chapter 1. Spring Framework Overview Spring ma...</td>\n",
       "    </tr>\n",
       "    <tr>\n",
       "      <th>2</th>\n",
       "      <td>2</td>\n",
       "      <td>2621</td>\n",
       "      <td>418</td>\n",
       "      <td>25</td>\n",
       "      <td>655.25</td>\n",
       "      <td>specifications from the traditional EE umbrell...</td>\n",
       "    </tr>\n",
       "    <tr>\n",
       "      <th>3</th>\n",
       "      <td>3</td>\n",
       "      <td>2207</td>\n",
       "      <td>366</td>\n",
       "      <td>23</td>\n",
       "      <td>551.75</td>\n",
       "      <td>• Maintain strong backward compatibility. Spri...</td>\n",
       "    </tr>\n",
       "    <tr>\n",
       "      <th>4</th>\n",
       "      <td>4</td>\n",
       "      <td>2720</td>\n",
       "      <td>386</td>\n",
       "      <td>23</td>\n",
       "      <td>680.00</td>\n",
       "      <td>Chapter 2. Core Technologies This part of the ...</td>\n",
       "    </tr>\n",
       "  </tbody>\n",
       "</table>\n",
       "</div>"
      ],
      "text/plain": [
       "   page_number  page_char_count  page_word_count  page_setence_count_raw  \\\n",
       "0            0               44                5                       1   \n",
       "1            1             3152              494                      31   \n",
       "2            2             2621              418                      25   \n",
       "3            3             2207              366                      23   \n",
       "4            4             2720              386                      23   \n",
       "\n",
       "   page_token_count                                               text  \n",
       "0             11.00       Spring Framework Documentation Version 6.0.0  \n",
       "1            788.00  Chapter 1. Spring Framework Overview Spring ma...  \n",
       "2            655.25  specifications from the traditional EE umbrell...  \n",
       "3            551.75  • Maintain strong backward compatibility. Spri...  \n",
       "4            680.00  Chapter 2. Core Technologies This part of the ...  "
      ]
     },
     "execution_count": 23,
     "metadata": {},
     "output_type": "execute_result"
    }
   ],
   "source": [
    "df = pd.DataFrame(pages_and_texts)\n",
    "df.set_index(\"page_number\")\n",
    "df.head()"
   ]
  },
  {
   "cell_type": "code",
   "execution_count": 24,
   "id": "f1548b6e-1ec2-4267-99ed-08551565ce17",
   "metadata": {},
   "outputs": [
    {
     "data": {
      "text/html": [
       "<div>\n",
       "<style scoped>\n",
       "    .dataframe tbody tr th:only-of-type {\n",
       "        vertical-align: middle;\n",
       "    }\n",
       "\n",
       "    .dataframe tbody tr th {\n",
       "        vertical-align: top;\n",
       "    }\n",
       "\n",
       "    .dataframe thead th {\n",
       "        text-align: right;\n",
       "    }\n",
       "</style>\n",
       "<table border=\"1\" class=\"dataframe\">\n",
       "  <thead>\n",
       "    <tr style=\"text-align: right;\">\n",
       "      <th></th>\n",
       "      <th>page_number</th>\n",
       "      <th>page_char_count</th>\n",
       "      <th>page_word_count</th>\n",
       "      <th>page_setence_count_raw</th>\n",
       "      <th>page_token_count</th>\n",
       "    </tr>\n",
       "  </thead>\n",
       "  <tbody>\n",
       "    <tr>\n",
       "      <th>count</th>\n",
       "      <td>1429.00</td>\n",
       "      <td>1429.00</td>\n",
       "      <td>1429.00</td>\n",
       "      <td>1429.00</td>\n",
       "      <td>1429.00</td>\n",
       "    </tr>\n",
       "    <tr>\n",
       "      <th>mean</th>\n",
       "      <td>714.00</td>\n",
       "      <td>1725.97</td>\n",
       "      <td>268.72</td>\n",
       "      <td>10.10</td>\n",
       "      <td>431.49</td>\n",
       "    </tr>\n",
       "    <tr>\n",
       "      <th>std</th>\n",
       "      <td>412.66</td>\n",
       "      <td>595.52</td>\n",
       "      <td>92.28</td>\n",
       "      <td>6.43</td>\n",
       "      <td>148.88</td>\n",
       "    </tr>\n",
       "    <tr>\n",
       "      <th>min</th>\n",
       "      <td>0.00</td>\n",
       "      <td>44.00</td>\n",
       "      <td>5.00</td>\n",
       "      <td>1.00</td>\n",
       "      <td>11.00</td>\n",
       "    </tr>\n",
       "    <tr>\n",
       "      <th>25%</th>\n",
       "      <td>357.00</td>\n",
       "      <td>1304.00</td>\n",
       "      <td>202.00</td>\n",
       "      <td>5.00</td>\n",
       "      <td>326.00</td>\n",
       "    </tr>\n",
       "    <tr>\n",
       "      <th>50%</th>\n",
       "      <td>714.00</td>\n",
       "      <td>1677.00</td>\n",
       "      <td>259.00</td>\n",
       "      <td>9.00</td>\n",
       "      <td>419.25</td>\n",
       "    </tr>\n",
       "    <tr>\n",
       "      <th>75%</th>\n",
       "      <td>1071.00</td>\n",
       "      <td>2090.00</td>\n",
       "      <td>325.00</td>\n",
       "      <td>14.00</td>\n",
       "      <td>522.50</td>\n",
       "    </tr>\n",
       "    <tr>\n",
       "      <th>max</th>\n",
       "      <td>1428.00</td>\n",
       "      <td>3803.00</td>\n",
       "      <td>645.00</td>\n",
       "      <td>38.00</td>\n",
       "      <td>950.75</td>\n",
       "    </tr>\n",
       "  </tbody>\n",
       "</table>\n",
       "</div>"
      ],
      "text/plain": [
       "       page_number  page_char_count  page_word_count  page_setence_count_raw  \\\n",
       "count      1429.00          1429.00          1429.00                 1429.00   \n",
       "mean        714.00          1725.97           268.72                   10.10   \n",
       "std         412.66           595.52            92.28                    6.43   \n",
       "min           0.00            44.00             5.00                    1.00   \n",
       "25%         357.00          1304.00           202.00                    5.00   \n",
       "50%         714.00          1677.00           259.00                    9.00   \n",
       "75%        1071.00          2090.00           325.00                   14.00   \n",
       "max        1428.00          3803.00           645.00                   38.00   \n",
       "\n",
       "       page_token_count  \n",
       "count           1429.00  \n",
       "mean             431.49  \n",
       "std              148.88  \n",
       "min               11.00  \n",
       "25%              326.00  \n",
       "50%              419.25  \n",
       "75%              522.50  \n",
       "max              950.75  "
      ]
     },
     "execution_count": 24,
     "metadata": {},
     "output_type": "execute_result"
    }
   ],
   "source": [
    "df.describe().round(2)"
   ]
  },
  {
   "cell_type": "code",
   "execution_count": 29,
   "id": "6e75ff6a-fb0d-40a4-9e24-6e113334b79b",
   "metadata": {},
   "outputs": [
    {
     "data": {
      "text/plain": [
       "<spacy.pipeline.sentencizer.Sentencizer at 0x1c4909ff940>"
      ]
     },
     "execution_count": 29,
     "metadata": {},
     "output_type": "execute_result"
    }
   ],
   "source": [
    "#Spacy pipeline creator\n",
    "\n",
    "nlp = English()\n",
    "nlp.add_pipe(\"sentencizer\")\n"
   ]
  },
  {
   "cell_type": "code",
   "execution_count": null,
   "id": "def3066b-718f-4057-b77c-8f1988b5806a",
   "metadata": {},
   "outputs": [],
   "source": [
    "for item in tqdm(pages_and_texts):\n",
    "    item[\"sentences\"] = list(nlp(item[\"text\"]).sents)\n",
    "    item[\"sentences\"] = [str(sentence) for sentence in item[\"sentences\"]]\n",
    "    item[\"page_sentence_count_spacy\"] = len(item[\"sentences\"])\n",
    "\n",
    "random.sample(pages_and_texts, k=1)"
   ]
  },
  {
   "cell_type": "code",
   "execution_count": null,
   "id": "f261800a-f223-4e87-931b-e6e189dcf99b",
   "metadata": {},
   "outputs": [],
   "source": []
  }
 ],
 "metadata": {
  "kernelspec": {
   "display_name": "Python 3 (ipykernel)",
   "language": "python",
   "name": "python3"
  },
  "language_info": {
   "codemirror_mode": {
    "name": "ipython",
    "version": 3
   },
   "file_extension": ".py",
   "mimetype": "text/x-python",
   "name": "python",
   "nbconvert_exporter": "python",
   "pygments_lexer": "ipython3",
   "version": "3.9.19"
  }
 },
 "nbformat": 4,
 "nbformat_minor": 5
}
