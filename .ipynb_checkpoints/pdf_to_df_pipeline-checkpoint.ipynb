{
 "cells": [
  {
   "cell_type": "code",
   "execution_count": 10,
   "id": "f10764ba-e11e-4c87-ad82-930cd6b7b9c5",
   "metadata": {},
   "outputs": [],
   "source": [
    "import os\n",
    "import requests\n",
    "import fitz \n",
    "from tqdm.auto import tqdm\n",
    "import random\n",
    "import pandas as pd\n",
    "# Get PDF document path\n"
   ]
  },
  {
   "cell_type": "code",
   "execution_count": null,
   "id": "03db79c1-5148-47d4-9e13-afc2ce47bf2f",
   "metadata": {},
   "outputs": [],
   "source": [
    "pdf_path = \"resources/spring-framework.pdf\"\n",
    "\n",
    "# Download PDF\n",
    "if not os.path.exists(pdf_path):\n",
    "    print(\"[INFO] File doesn't exist, downloading...\")\n",
    "    url = \"https://docs.spring.io/spring-framework/docs/6.0.0/reference/pdf/spring-framework.pdf\"\n",
    "    filename = pdf_path\n",
    "    response = requests.get(url)\n",
    "    if response.status_code == 200:\n",
    "        with open(filename, \"wb\") as file:\n",
    "            file.write(response.content) \n",
    "        print(f\"[INFO] The file has been download and saved as {filename}\")\n",
    "    else:\n",
    "        print(f\"[INFO] Failed to download the file. Status code: {reponse.status_code}\")\n",
    "else:\n",
    "    print(f\"File {pdf_path} exists.\")\n",
    "\n"
   ]
  },
  {
   "cell_type": "code",
   "execution_count": 8,
   "id": "9fa8aa53-4f8a-44c9-b497-142c15642b85",
   "metadata": {},
   "outputs": [
    {
     "data": {
      "application/vnd.jupyter.widget-view+json": {
       "model_id": "57e572802018452bbaf90cadcd371278",
       "version_major": 2,
       "version_minor": 0
      },
      "text/plain": [
       "0it [00:00, ?it/s]"
      ]
     },
     "metadata": {},
     "output_type": "display_data"
    },
    {
     "data": {
      "text/plain": [
       "[{'page_number': 1,\n",
       "  'page_char_count': 44,\n",
       "  'page_word_count': 5,\n",
       "  'page_setence_count_raw': 1,\n",
       "  'page_token_count': 11.0,\n",
       "  'text': 'Spring Framework Documentation Version 6.0.0'},\n",
       " {'page_number': 2,\n",
       "  'page_char_count': 3152,\n",
       "  'page_word_count': 494,\n",
       "  'page_setence_count_raw': 31,\n",
       "  'page_token_count': 788.0,\n",
       "  'text': 'Chapter 1. Spring Framework Overview Spring makes it easy to create Java enterprise applications. It provides everything you need to embrace the Java language in an enterprise environment, with support for Groovy and Kotlin as alternative languages on the JVM, and with the flexibility to create many kinds of architectures depending on an application’s needs. As of Spring Framework 5.1, Spring requires JDK 8+ (Java SE 8+) and provides out-of-the-box support for JDK 11 LTS. Java SE 8 update 60 is suggested as the minimum patch release for Java 8, but it is generally recommended to use a recent patch release. Spring supports a wide range of application scenarios. In a large enterprise, applications often exist for a long time and have to run on a JDK and application server whose upgrade cycle is beyond developer control. Others may run as a single jar with the server embedded, possibly in a cloud environment. Yet others may be standalone applications (such as batch or integration workloads) that do not need a server. Spring is open source. It has a large and active community that provides continuous feedback based on a diverse range of real-world use cases. This has helped Spring to successfully evolve over a very long time. 1.1. What We Mean by \"Spring\" The term \"Spring\" means different things in different contexts. It can be used to refer to the Spring Framework project itself, which is where it all started. Over time, other Spring projects have been built on top of the Spring Framework. Most often, when people say \"Spring\", they mean the entire family of projects. This reference documentation focuses on the foundation: the Spring Framework itself. The Spring Framework is divided into modules. Applications can choose which modules they need. At the heart are the modules of the core container, including a configuration model and a dependency injection mechanism. Beyond that, the Spring Framework provides foundational support for different application architectures, including messaging, transactional data and persistence, and web. It also includes the Servlet-based Spring MVC web framework and, in parallel, the Spring WebFlux reactive web framework. A note about modules: Spring’s framework jars allow for deployment to JDK 9’s module path (\"Jigsaw\"). For use in Jigsaw-enabled applications, the Spring Framework 5 jars come with \"Automatic-Module-Name\" manifest entries which define stable language-level module names (\"spring.core\", \"spring.context\", etc.) independent from jar artifact names (the jars follow the same naming pattern with \"-\" instead of \".\", e.g. \"spring-core\" and \"spring-context\"). Of course, Spring’s framework jars keep working fine on the classpath on both JDK 8 and 9+. 1.2. History of Spring and the Spring Framework Spring came into being in 2003 as a response to the complexity of the early J2EE specifications. While some consider Java EE and its modern-day successor Jakarta EE to be in competition with Spring, they are in fact complementary. The Spring programming model does not embrace the Jakarta EE platform specification; rather, it integrates with carefully selected individual 1'}]"
      ]
     },
     "execution_count": 8,
     "metadata": {},
     "output_type": "execute_result"
    }
   ],
   "source": [
    "def text_formatter(text: str) -> str: \n",
    "    \"\"\"Performs minor formatting on text.\"\"\"\n",
    "    cleaned_text = text.replace(\"\\n\", \" \").strip()\n",
    "    return cleaned_text\n",
    "\n",
    "def open_and_read_pdf(pdf_path: str) -> list[dict]:\n",
    "    doc = fitz.open(pdf_path)\n",
    "    pages_and_texts = [] \n",
    "    for page_number, page in tqdm(enumerate(doc)):\n",
    "        text = page.get_text()\n",
    "        text = text_formatter(text=text)\n",
    "        pages_and_texts.append({\"page_number\": page_number+1,\n",
    "                                \"page_char_count\": len(text),\n",
    "                                \"page_word_count\": len(text.split(\" \")),\n",
    "                                \"page_setence_count_raw\": len(text.split(\". \")),\n",
    "                                \"page_token_count\": len(text) / 4, # 1 token = ~4 characters\n",
    "                                \"text\": text})\n",
    "    return pages_and_texts\n",
    "\n",
    "pages_and_texts = open_and_read_pdf(pdf_path=pdf_path)\n",
    "pages_and_texts[:2]"
   ]
  },
  {
   "cell_type": "code",
   "execution_count": 11,
   "id": "e8d8f880-e26f-4347-a44a-1cce2bb8e5c7",
   "metadata": {},
   "outputs": [
    {
     "data": {
      "text/plain": [
       "[{'page_number': 1093,\n",
       "  'page_char_count': 2032,\n",
       "  'page_word_count': 288,\n",
       "  'page_setence_count_raw': 11,\n",
       "  'page_token_count': 508.0,\n",
       "  'text': 'messages to a client. The general idea is that, at any given time, only a single thread can be used to send to a client. All additional messages, meanwhile, get buffered, and you can use these properties to decide how long sending a message is allowed to take and how much data can be buffered in the meantime. See the javadoc and documentation of the XML schema for important additional details. The following example shows a possible configuration: @Configuration @EnableWebSocketMessageBroker public class WebSocketConfig implements WebSocketMessageBrokerConfigurer { \\xa0   @Override \\xa0   public void configureWebSocketTransport(WebSocketTransportRegistration registration) { \\xa0       registration.setSendTimeLimit(15 * 1000).setSendBufferSizeLimit(512 * 1024); \\xa0   } \\xa0   // ... } The following example shows the XML configuration equivalent of the preceding example: <beans xmlns=\"http://www.springframework.org/schema/beans\" \\xa0   xmlns:xsi=\"http://www.w3.org/2001/XMLSchema-instance\" \\xa0   xmlns:websocket=\"http://www.springframework.org/schema/websocket\" \\xa0   xsi:schemaLocation=\" \\xa0       http://www.springframework.org/schema/beans \\xa0       https://www.springframework.org/schema/beans/spring-beans.xsd \\xa0       http://www.springframework.org/schema/websocket \\xa0       https://www.springframework.org/schema/websocket/spring-websocket.xsd\"> \\xa0   <websocket:message-broker> \\xa0       <websocket:transport send-timeout=\"15000\" send-buffer-size=\"524288\" /> \\xa0       <!-- ... --> \\xa0   </websocket:message-broker> </beans> You can also use the WebSocket transport configuration shown earlier to configure the maximum allowed size for incoming STOMP messages. In theory, a WebSocket message can be almost unlimited in size. In practice, WebSocket servers impose limits\\u2009—\\u2009for example, 8K on Tomcat and 64K on Jetty. For this reason, STOMP clients (such as the JavaScript webstomp-client and others) split larger STOMP messages at 16K boundaries and send them as multiple WebSocket messages, which requires the server to buffer and re-assemble. 1092'},\n",
       " {'page_number': 1405,\n",
       "  'page_char_count': 2173,\n",
       "  'page_word_count': 319,\n",
       "  'page_setence_count_raw': 10,\n",
       "  'page_token_count': 543.25,\n",
       "  'text': 'Spring beans (such as @Configuration annotated classes which by default need to be extended at runtime for technical reasons) are normally proxied by CGLIB. The workaround is to add an open keyword on each class and member function of Spring beans that are proxied by CGLIB, which can quickly become painful and is against the Kotlin principle of keeping code concise and predictable. \\uf05a It is also possible to avoid CGLIB proxies for configuration classes by using @Configuration(proxyBeanMethods = false). See proxyBeanMethods Javadoc for more details. Fortunately, Kotlin provides a kotlin-spring plugin (a preconfigured version of the kotlin-allopen plugin) that automatically opens classes and their member functions for types that are annotated or meta-annotated with one of the following annotations: • @Component • @Async • @Transactional • @Cacheable Meta-annotation support means that types annotated with @Configuration, @Controller, @RestController, @Service, or @Repository are automatically opened since these annotations are meta-annotated with @Component. start.spring.io enables the kotlin-spring plugin by default. So, in practice, you can write your Kotlin beans without any additional open keyword, as in Java. \\uf05a The Kotlin code samples in Spring Framework documentation do not explicitly specify open on the classes and their member functions. The samples are written for projects using the kotlin-allopen plugin, since this is the most commonly used setup. Using Immutable Class Instances for Persistence In Kotlin, it is convenient and considered to be a best practice to declare read-only properties within the primary constructor, as in the following example: class Person(val name: String, val age: Int) You can optionally add the data keyword to make the compiler automatically derive the following members from all properties declared in the primary constructor: • equals() and hashCode() • toString() of the form \"User(name=John, age=42)\" • componentN() functions that correspond to the properties in their order of declaration • copy() function As the following example shows, this allows for easy changes to individual properties, even if 1404'},\n",
       " {'page_number': 1219,\n",
       "  'page_char_count': 1093,\n",
       "  'page_word_count': 178,\n",
       "  'page_setence_count_raw': 6,\n",
       "  'page_token_count': 273.25,\n",
       "  'text': 'Kotlin @Controller class MyController { \\xa0   @InitBinder \\xa0   protected fun initBinder(binder: WebDataBinder) { \\xa0       binder.addValidators(FooValidator()) \\xa0   } } \\uf0eb If you need to have a LocalValidatorFactoryBean injected somewhere, create a bean and mark it with @Primary in order to avoid conflict with the one declared in the MVC config. Content Type Resolvers Web MVC You can configure how Spring WebFlux determines the requested media types for @Controller instances from the request. By default, only the Accept header is checked, but you can also enable a query parameter-based strategy. The following example shows how to customize the requested content type resolution: Java @Configuration @EnableWebFlux public class WebConfig implements WebFluxConfigurer { \\xa0   @Override \\xa0   public void configureContentTypeResolver(RequestedContentTypeResolverBuilder builder) { \\xa0       // ... \\xa0   } } Kotlin @Configuration @EnableWebFlux class WebConfig : WebFluxConfigurer { \\xa0   override fun configureContentTypeResolver(builder: RequestedContentTypeResolverBuilder) { \\xa0       // ... \\xa0   } } 1218'}]"
      ]
     },
     "execution_count": 11,
     "metadata": {},
     "output_type": "execute_result"
    }
   ],
   "source": [
    "random.sample(pages_and_texts, k=3)"
   ]
  },
  {
   "cell_type": "code",
   "execution_count": null,
   "id": "065ee878-12df-4eeb-a4f7-aee9ad212d05",
   "metadata": {},
   "outputs": [],
   "source": []
  }
 ],
 "metadata": {
  "kernelspec": {
   "display_name": "Python 3 (ipykernel)",
   "language": "python",
   "name": "python3"
  },
  "language_info": {
   "codemirror_mode": {
    "name": "ipython",
    "version": 3
   },
   "file_extension": ".py",
   "mimetype": "text/x-python",
   "name": "python",
   "nbconvert_exporter": "python",
   "pygments_lexer": "ipython3",
   "version": "3.9.19"
  }
 },
 "nbformat": 4,
 "nbformat_minor": 5
}
